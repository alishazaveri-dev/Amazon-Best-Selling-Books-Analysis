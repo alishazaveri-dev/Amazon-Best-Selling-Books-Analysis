{
 "cells": [
  {
   "cell_type": "markdown",
   "metadata": {
    "application/vnd.databricks.v1+cell": {
     "cellMetadata": {},
     "inputWidgets": {},
     "nuid": "32719888-be57-4315-a8e9-c12682c13fc0",
     "showTitle": false,
     "tableResultSettingsMap": {},
     "title": ""
    }
   },
   "source": [
    "Amazon Best Selling Books Analysis"
   ]
  },
  {
   "cell_type": "markdown",
   "metadata": {
    "application/vnd.databricks.v1+cell": {
     "cellMetadata": {},
     "inputWidgets": {},
     "nuid": "600bbcb9-cae8-47c4-a4e5-2f858988f9cd",
     "showTitle": false,
     "tableResultSettingsMap": {},
     "title": ""
    }
   },
   "source": [
    "Install required libraries"
   ]
  },
  {
   "cell_type": "code",
   "execution_count": 0,
   "metadata": {
    "application/vnd.databricks.v1+cell": {
     "cellMetadata": {
      "byteLimit": 2048000,
      "rowLimit": 10000
     },
     "inputWidgets": {},
     "nuid": "c868a4c2-429c-4503-9034-c8cb67f9d635",
     "showTitle": false,
     "tableResultSettingsMap": {},
     "title": ""
    }
   },
   "outputs": [
    {
     "output_type": "stream",
     "name": "stdout",
     "output_type": "stream",
     "text": [
      "Requirement already satisfied: beautifulsoup4 in /databricks/python3/lib/python3.12/site-packages (4.12.3)\nRequirement already satisfied: requests in /databricks/python3/lib/python3.12/site-packages (2.32.3)\nRequirement already satisfied: lxml in /local_disk0/.ephemeral_nfs/envs/pythonEnv-0abbcd6f-59ab-4735-85d2-ea1fc282c11a/lib/python3.12/site-packages (6.0.2)\nRequirement already satisfied: pandas in /databricks/python3/lib/python3.12/site-packages (2.2.3)\nCollecting selenium\n  Downloading selenium-4.36.0-py3-none-any.whl.metadata (7.5 kB)\nCollecting webdriver-manager\n  Downloading webdriver_manager-4.0.2-py2.py3-none-any.whl.metadata (12 kB)\nRequirement already satisfied: soupsieve>1.2 in /databricks/python3/lib/python3.12/site-packages (from beautifulsoup4) (2.5)\nRequirement already satisfied: charset-normalizer<4,>=2 in /databricks/python3/lib/python3.12/site-packages (from requests) (3.3.2)\nRequirement already satisfied: idna<4,>=2.5 in /databricks/python3/lib/python3.12/site-packages (from requests) (3.7)\nRequirement already satisfied: urllib3<3,>=1.21.1 in /databricks/python3/lib/python3.12/site-packages (from requests) (2.3.0)\nRequirement already satisfied: certifi>=2017.4.17 in /databricks/python3/lib/python3.12/site-packages (from requests) (2025.1.31)\nRequirement already satisfied: numpy>=1.26.0 in /databricks/python3/lib/python3.12/site-packages (from pandas) (2.1.3)\nRequirement already satisfied: python-dateutil>=2.8.2 in /databricks/python3/lib/python3.12/site-packages (from pandas) (2.9.0.post0)\nRequirement already satisfied: pytz>=2020.1 in /databricks/python3/lib/python3.12/site-packages (from pandas) (2024.1)\nRequirement already satisfied: tzdata>=2022.7 in /databricks/python3/lib/python3.12/site-packages (from pandas) (2024.1)\nCollecting urllib3<3,>=1.21.1 (from requests)\n  Downloading urllib3-2.5.0-py3-none-any.whl.metadata (6.5 kB)\nCollecting trio<1.0,>=0.30.0 (from selenium)\n  Downloading trio-0.31.0-py3-none-any.whl.metadata (8.5 kB)\nCollecting trio-websocket<1.0,>=0.12.2 (from selenium)\n  Downloading trio_websocket-0.12.2-py3-none-any.whl.metadata (5.1 kB)\nCollecting certifi>=2017.4.17 (from requests)\n  Downloading certifi-2025.10.5-py3-none-any.whl.metadata (2.5 kB)\nCollecting typing_extensions<5.0,>=4.14.0 (from selenium)\n  Downloading typing_extensions-4.15.0-py3-none-any.whl.metadata (3.3 kB)\nRequirement already satisfied: websocket-client<2.0,>=1.8.0 in /databricks/python3/lib/python3.12/site-packages (from selenium) (1.8.0)\nCollecting python-dotenv (from webdriver-manager)\n  Downloading python_dotenv-1.1.1-py3-none-any.whl.metadata (24 kB)\nRequirement already satisfied: packaging in /databricks/python3/lib/python3.12/site-packages (from webdriver-manager) (24.1)\nRequirement already satisfied: six>=1.5 in /usr/lib/python3/dist-packages (from python-dateutil>=2.8.2->pandas) (1.16.0)\nRequirement already satisfied: attrs>=23.2.0 in /databricks/python3/lib/python3.12/site-packages (from trio<1.0,>=0.30.0->selenium) (24.3.0)\nRequirement already satisfied: sortedcontainers in /databricks/python3/lib/python3.12/site-packages (from trio<1.0,>=0.30.0->selenium) (2.4.0)\nCollecting outcome (from trio<1.0,>=0.30.0->selenium)\n  Downloading outcome-1.3.0.post0-py2.py3-none-any.whl.metadata (2.6 kB)\nRequirement already satisfied: sniffio>=1.3.0 in /databricks/python3/lib/python3.12/site-packages (from trio<1.0,>=0.30.0->selenium) (1.3.0)\nCollecting wsproto>=0.14 (from trio-websocket<1.0,>=0.12.2->selenium)\n  Downloading wsproto-1.2.0-py3-none-any.whl.metadata (5.6 kB)\nCollecting pysocks!=1.5.7,<2.0,>=1.5.6 (from urllib3[socks]<3.0,>=2.5.0->selenium)\n  Downloading PySocks-1.7.1-py3-none-any.whl.metadata (13 kB)\nRequirement already satisfied: h11<1,>=0.9.0 in /databricks/python3/lib/python3.12/site-packages (from wsproto>=0.14->trio-websocket<1.0,>=0.12.2->selenium) (0.14.0)\nDownloading selenium-4.36.0-py3-none-any.whl (9.6 MB)\n\u001B[?25l   \u001B[90m━━━━━━━━━━━━━━━━━━━━━━━━━━━━━━━━━━━━━━━━\u001B[0m \u001B[32m0.0/9.6 MB\u001B[0m \u001B[31m?\u001B[0m eta \u001B[36m-:--:--\u001B[0m\r\u001B[2K   \u001B[90m━━━━━━━━━━━━━━━━━━━━━━━━━━━━━━━━━━━━━━━━\u001B[0m \u001B[32m9.6/9.6 MB\u001B[0m \u001B[31m121.7 MB/s\u001B[0m eta \u001B[36m0:00:00\u001B[0m\n\u001B[?25hDownloading webdriver_manager-4.0.2-py2.py3-none-any.whl (27 kB)\nDownloading certifi-2025.10.5-py3-none-any.whl (163 kB)\nDownloading trio-0.31.0-py3-none-any.whl (512 kB)\nDownloading trio_websocket-0.12.2-py3-none-any.whl (21 kB)\nDownloading typing_extensions-4.15.0-py3-none-any.whl (44 kB)\nDownloading urllib3-2.5.0-py3-none-any.whl (129 kB)\nDownloading python_dotenv-1.1.1-py3-none-any.whl (20 kB)\nDownloading outcome-1.3.0.post0-py2.py3-none-any.whl (10 kB)\nDownloading PySocks-1.7.1-py3-none-any.whl (16 kB)\nDownloading wsproto-1.2.0-py3-none-any.whl (24 kB)\nInstalling collected packages: wsproto, urllib3, typing_extensions, python-dotenv, pysocks, outcome, certifi, trio, webdriver-manager, trio-websocket, selenium\n  Attempting uninstall: urllib3\n    Found existing installation: urllib3 2.3.0\n    Not uninstalling urllib3 at /databricks/python3/lib/python3.12/site-packages, outside environment /local_disk0/.ephemeral_nfs/envs/pythonEnv-0abbcd6f-59ab-4735-85d2-ea1fc282c11a\n    Can't uninstall 'urllib3'. No files were found to uninstall.\n  Attempting uninstall: typing_extensions\n    Found existing installation: typing_extensions 4.12.2\n    Not uninstalling typing-extensions at /databricks/python3/lib/python3.12/site-packages, outside environment /local_disk0/.ephemeral_nfs/envs/pythonEnv-0abbcd6f-59ab-4735-85d2-ea1fc282c11a\n    Can't uninstall 'typing_extensions'. No files were found to uninstall.\n  Attempting uninstall: certifi\n    Found existing installation: certifi 2025.1.31\n    Not uninstalling certifi at /databricks/python3/lib/python3.12/site-packages, outside environment /local_disk0/.ephemeral_nfs/envs/pythonEnv-0abbcd6f-59ab-4735-85d2-ea1fc282c11a\n    Can't uninstall 'certifi'. No files were found to uninstall.\nSuccessfully installed certifi-2025.10.5 outcome-1.3.0.post0 pysocks-1.7.1 python-dotenv-1.1.1 selenium-4.36.0 trio-0.31.0 trio-websocket-0.12.2 typing_extensions-4.15.0 urllib3-2.5.0 webdriver-manager-4.0.2 wsproto-1.2.0\n\u001B[43mNote: you may need to restart the kernel using %restart_python or dbutils.library.restartPython() to use updated packages.\u001B[0m\n"
     ]
    }
   ],
   "source": [
    "%pip install beautifulsoup4 requests lxml pandas selenium webdriver-manager"
   ]
  },
  {
   "cell_type": "code",
   "execution_count": 0,
   "metadata": {
    "application/vnd.databricks.v1+cell": {
     "cellMetadata": {
      "byteLimit": 2048000,
      "rowLimit": 10000
     },
     "inputWidgets": {},
     "nuid": "622e5bee-499f-4d48-8e74-a225267c4310",
     "showTitle": false,
     "tableResultSettingsMap": {},
     "title": ""
    }
   },
   "outputs": [],
   "source": [
    "from bs4 import BeautifulSoup\n",
    "import requests\n",
    "from pyspark.sql import SparkSession\n",
    "from pyspark.sql.functions import *\n",
    "from pyspark.sql.types import *\n",
    "import pandas as pd\n",
    "from datetime import datetime\n",
    "import time\n",
    "import re"
   ]
  },
  {
   "cell_type": "code",
   "execution_count": 0,
   "metadata": {
    "application/vnd.databricks.v1+cell": {
     "cellMetadata": {
      "byteLimit": 2048000,
      "rowLimit": 10000
     },
     "inputWidgets": {},
     "nuid": "5ae7c344-ab4e-4ae9-b43b-47c967340233",
     "showTitle": false,
     "tableResultSettingsMap": {},
     "title": ""
    }
   },
   "outputs": [],
   "source": [
    "spark = SparkSession.builder \\\n",
    "    .appName(\"AmazonBestSellers\") \\\n",
    "    .getOrCreate()"
   ]
  },
  {
   "cell_type": "markdown",
   "metadata": {
    "application/vnd.databricks.v1+cell": {
     "cellMetadata": {},
     "inputWidgets": {},
     "nuid": "b2dbfdda-5346-4eed-8d5d-c57f5eb80fcf",
     "showTitle": false,
     "tableResultSettingsMap": {},
     "title": ""
    }
   },
   "source": [
    "Main scraping function"
   ]
  },
  {
   "cell_type": "code",
   "execution_count": 0,
   "metadata": {
    "application/vnd.databricks.v1+cell": {
     "cellMetadata": {
      "byteLimit": 2048000,
      "rowLimit": 10000
     },
     "inputWidgets": {},
     "nuid": "fbf2d243-842f-437e-a860-c5b8f1eea801",
     "showTitle": false,
     "tableResultSettingsMap": {},
     "title": ""
    }
   },
   "outputs": [],
   "source": [
    "def scrape_amazon_bestsellers(category=\"books\", max_pages=2):\n",
    "    \"\"\"\n",
    "    Scrapes real Amazon best seller data across multiple pages.\n",
    "    Be respectful - don't overload their servers.\n",
    "    \"\"\"\n",
    "    all_books = []\n",
    "    headers = {\n",
    "        'User-Agent': 'Mozilla/5.0 (Windows NT 10.0; Win64; x64) AppleWebKit/537.36 (KHTML, like Gecko) Chrome/91.0.4472.124 Safari/537.36',\n",
    "        'Accept-Language': 'en-US,en;q=0.9',\n",
    "        'Accept-Encoding': 'gzip, deflate, br',\n",
    "        'Accept': 'text/html,application/xhtml+xml,application/xml;q=0.9,image/webp,*/*;q=0.8',\n",
    "        'Connection': 'keep-alive',\n",
    "    }\n",
    "    \n",
    "    for page in range(1, max_pages + 1):\n",
    "        print(f\"Scraping page {page}...\")\n",
    "        \n",
    "        if page == 1:\n",
    "            url = f\"https://www.amazon.com/best-sellers-books-Amazon/zgbs/books/\"\n",
    "        else:\n",
    "            url = f\"https://www.amazon.com/best-sellers-books-Amazon/zgbs/books/ref=zg_bs_pg_{page}?pg={page}\"\n",
    "        \n",
    "        try:\n",
    "            time.sleep(2)  # Be nice to Amazon's servers\n",
    "            response = requests.get(url, headers=headers, timeout=10)\n",
    "            \n",
    "            if response.status_code != 200:\n",
    "                print(f\"Failed to fetch page {page}: Status {response.status_code}\")\n",
    "                continue\n",
    "                \n",
    "            soup = BeautifulSoup(response.content, 'html.parser')\n",
    "            \n",
    "            # Find all book containers - Amazon uses different structures\n",
    "            items = soup.find_all('div', {'id': re.compile(r'gridItemRoot')})\n",
    "            \n",
    "            if not items:\n",
    "                # Try alternative selector\n",
    "                items = soup.find_all('div', class_=re.compile(r'zg-grid-general-faceout'))\n",
    "            \n",
    "            print(f\"Found {len(items)} items on page {page}\")\n",
    "            \n",
    "            for item in items:\n",
    "                try:\n",
    "                    # Extract rank\n",
    "                    rank_elem = item.find('span', class_=re.compile(r'zg-bdg-text'))\n",
    "                    if rank_elem:\n",
    "                        rank_text = rank_elem.text.strip()\n",
    "                        rank = int(re.search(r'\\d+', rank_text).group()) if re.search(r'\\d+', rank_text) else len(all_books) + 1\n",
    "                    else:\n",
    "                        rank = len(all_books) + 1\n",
    "                    \n",
    "                    # Extract title\n",
    "                    title_elem = item.find('div', class_=re.compile(r'_cDEzb_p13n-sc-css-line-clamp'))\n",
    "                    if not title_elem:\n",
    "                        title_elem = item.find('a', class_='a-link-normal')\n",
    "                    title = title_elem.text.strip() if title_elem else 'Unknown Title'\n",
    "                    \n",
    "                    # Extract author\n",
    "                    author_elem = item.find('a', class_='a-size-small a-link-child')\n",
    "                    if not author_elem:\n",
    "                        author_elem = item.find('div', class_='a-row a-size-small')\n",
    "                    author = author_elem.text.strip() if author_elem else 'Unknown Author'\n",
    "                    \n",
    "                    # Extract price\n",
    "                    price_elem = item.find('span', class_='a-price')\n",
    "                    if price_elem:\n",
    "                        price_text = price_elem.find('span', class_='a-offscreen')\n",
    "                        price = price_text.text.strip() if price_text else 'N/A'\n",
    "                    else:\n",
    "                        price = 'N/A'\n",
    "                    \n",
    "                    # Extract rating\n",
    "                    rating_elem = item.find('span', class_='a-icon-alt')\n",
    "                    if rating_elem:\n",
    "                        rating_text = rating_elem.text.strip()\n",
    "                        rating_match = re.search(r'(\\d+\\.?\\d*)', rating_text)\n",
    "                        rating = rating_match.group(1) if rating_match else 'N/A'\n",
    "                    else:\n",
    "                        rating = 'N/A'\n",
    "                    \n",
    "                    # Extract review count\n",
    "                    reviews_elem = item.find('span', class_='a-size-small')\n",
    "                    reviews = reviews_elem.text.strip() if reviews_elem else '0'\n",
    "                    \n",
    "                    # Extract book format (Kindle, Hardcover, Paperback)\n",
    "                    format_elem = item.find('span', class_='a-size-small a-color-secondary')\n",
    "                    book_format = format_elem.text.strip() if format_elem else 'Unknown'\n",
    "                    \n",
    "                    book_data = {\n",
    "                        'rank': rank,\n",
    "                        'title': title,\n",
    "                        'author': author,\n",
    "                        'price': price,\n",
    "                        'rating': rating,\n",
    "                        'reviews': reviews,\n",
    "                        'format': book_format,\n",
    "                        'scraped_date': datetime.now().strftime('%Y-%m-%d'),\n",
    "                        'scraped_time': datetime.now().strftime('%H:%M:%S')\n",
    "                    }\n",
    "                    \n",
    "                    all_books.append(book_data)\n",
    "                    print(f\"  ✓ Scraped: {title[:50]}...\")\n",
    "                    \n",
    "                except Exception as e:\n",
    "                    print(f\"  ✗ Error parsing item: {e}\")\n",
    "                    continue\n",
    "            \n",
    "        except Exception as e:\n",
    "            print(f\"Error fetching page {page}: {e}\")\n",
    "            continue\n",
    "    \n",
    "    print(f\"\\n Total books scraped: {len(all_books)}\")\n",
    "    return all_books\n"
   ]
  },
  {
   "cell_type": "markdown",
   "metadata": {
    "application/vnd.databricks.v1+cell": {
     "cellMetadata": {},
     "inputWidgets": {},
     "nuid": "f4cdf476-d1ae-4c06-98e1-c43db3fd4721",
     "showTitle": false,
     "tableResultSettingsMap": {},
     "title": ""
    }
   },
   "source": [
    "Scrape the data"
   ]
  },
  {
   "cell_type": "code",
   "execution_count": 0,
   "metadata": {
    "application/vnd.databricks.v1+cell": {
     "cellMetadata": {
      "byteLimit": 2048000,
      "rowLimit": 10000
     },
     "inputWidgets": {},
     "nuid": "53c12a80-2cd8-467f-b784-dba11858e3ed",
     "showTitle": false,
     "tableResultSettingsMap": {},
     "title": ""
    }
   },
   "outputs": [
    {
     "output_type": "stream",
     "name": "stdout",
     "output_type": "stream",
     "text": [
      "Starting Amazon scrape...\nThis will take a minute - we're being respectful with delays\n\nScraping page 1...\nFound 30 items on page 1\n  ✓ Scraped: Under Siege: My Family's Fight to Save Our Nation...\n  ✓ Scraped: 1929: Inside the Greatest Crash in Wall Street His...\n  ✓ Scraped: How to Test Negative for Stupid: And Why Washingto...\n  ✓ Scraped: The Let Them Theory: A Life-Changing Tool That Mil...\n  ✓ Scraped: Partypooper: A side-splitting birthday disaster fr...\n  ✓ Scraped: The Boy, the Mole, the Fox and the Horse: Inspirin...\n  ✓ Scraped: Gone Before Goodbye...\n  ✓ Scraped: Hostage...\n  ✓ Scraped: I Love You to the Moon and Back...\n  ✓ Scraped: Separation of Church and Hate: A Sane Person's Gui...\n  ✓ Scraped: 107 Days...\n  ✓ Scraped: My First Learn-to-Write Workbook: Practice for Kid...\n  ✓ Scraped: The Promise of Heaven: 31 Reasons to Get Excited A...\n  ✓ Scraped: Remain: A Supernatural Love Story...\n  ✓ Scraped: Spooky Cutie: Coloring Book for Adults and Teens F...\n  ✓ Scraped: The Secret of Secrets: A Novel (Robert Langdon)...\n  ✓ Scraped: Regretting You...\n  ✓ Scraped: Dog Man: Big Jim Believes: A Graphic Novel (Dog Ma...\n  ✓ Scraped: The Leaf Thief: (The Perfect Fall Book for Childre...\n  ✓ Scraped: The Very Hungry Caterpillar...\n  ✓ Scraped: Nobody's Girl: A Memoir of Surviving Abuse and Fig...\n  ✓ Scraped: Atomic Habits: An Easy & Proven Way to Build Good ...\n  ✓ Scraped: The Housemaid...\n  ✓ Scraped: Room on the Broom...\n  ✓ Scraped: How to Catch a Witch: A Halloween Picture Book for...\n  ✓ Scraped: Alchemised...\n  ✓ Scraped: The Psychology of Money: Timeless lessons on wealt...\n  ✓ Scraped: Animal Farm: 75th Anniversary Edition...\n  ✓ Scraped: The Spooky Wheels on the Bus: (A Holiday Wheels on...\n  ✓ Scraped: How To Draw Everything: 300 Drawings of Cute Stuff...\nScraping page 2...\nFound 30 items on page 2\n  ✓ Scraped: My First Library: Boxset of 10 Board Books for Kid...\n  ✓ Scraped: Lots of Knock-Knock Jokes for Kids: A Funny, Laugh...\n  ✓ Scraped: The Body Keeps the Score: Brain, Mind, and Body in...\n  ✓ Scraped: The Rainbow Fish...\n  ✓ Scraped: Little Blue Truck's Halloween: A Fun And Interacti...\n  ✓ Scraped: Pete the Cat: Trick or Pete...\n  ✓ Scraped: The Book of Unusual Knowledge...\n  ✓ Scraped: Cry Havoc: A Tom Reece Thriller...\n  ✓ Scraped: The Day the Crayons Quit...\n  ✓ Scraped: The Dragon's Prophecy: Israel, the Dark Resurrecti...\n  ✓ Scraped: Skinnytaste High Protein: 100 Healthy, Simple Reci...\n  ✓ Scraped: Project Hail Mary: A Novel...\n  ✓ Scraped: Pagan Threat: Confronting America's Godless Uprisi...\n  ✓ Scraped: The Frozen River: A GMA Book Club Pick: A Novel...\n  ✓ Scraped: Future Boy: Back to the Future and My Journey Thro...\n  ✓ Scraped: Stress Relief: Coloring Book for Adults and Kids, ...\n  ✓ Scraped: Chicka Chicka Boom Boom (Board Book)...\n  ✓ Scraped: Bob Books - Set 1: Beginning Readers Box Set | Pho...\n  ✓ Scraped: A Beautiful Year in the Bible: The 52-Week Bible S...\n  ✓ Scraped: The Anxious Generation: How the Great Rewiring of ...\n  ✓ Scraped: The Wonderful Things You Will Be...\n  ✓ Scraped: Five Little Pumpkins: A Rhyming Pumpkin Book for K...\n  ✓ Scraped: The Going To Bed Book...\n  ✓ Scraped: Cozy Girl Season: Bold and Easy Coloring Book for ...\n  ✓ Scraped: Goodnight Moon...\n  ✓ Scraped: Last Rites...\n  ✓ Scraped: My Sticker Dress-Up: Dancers: Awesome Activity Boo...\n  ✓ Scraped: Man's Search for Meaning...\n  ✓ Scraped: Mate...\n  ✓ Scraped: The Four Agreements: A Practical Guide to Personal...\n\n Total books scraped: 60\n\nSuccessfully scraped 60 books!\n"
     ]
    }
   ],
   "source": [
    "print(\"Starting Amazon scrape...\")\n",
    "print(\"This will take a minute - we're being respectful with delays\\n\")\n",
    "\n",
    "books_data = scrape_amazon_bestsellers(max_pages=2)  # Scrape first 2 pages (~50 books)\n",
    "\n",
    "if not books_data:\n",
    "    raise Exception(\"No data scraped! Amazon might have changed their HTML structure or blocked the request.\")\n",
    "\n",
    "print(f\"\\nSuccessfully scraped {len(books_data)} books!\")"
   ]
  },
  {
   "cell_type": "markdown",
   "metadata": {
    "application/vnd.databricks.v1+cell": {
     "cellMetadata": {},
     "inputWidgets": {},
     "nuid": "368561cb-5bd0-4e6d-9fe5-611b0e606d46",
     "showTitle": false,
     "tableResultSettingsMap": {},
     "title": ""
    }
   },
   "source": [
    "Convert to Spark DataFrame"
   ]
  },
  {
   "cell_type": "code",
   "execution_count": 0,
   "metadata": {
    "application/vnd.databricks.v1+cell": {
     "cellMetadata": {
      "byteLimit": 2048000,
      "rowLimit": 10000
     },
     "inputWidgets": {},
     "nuid": "55c64211-6d8a-4c02-8a2c-62d93418b142",
     "showTitle": false,
     "tableResultSettingsMap": {},
     "title": ""
    }
   },
   "outputs": [
    {
     "output_type": "stream",
     "name": "stdout",
     "output_type": "stream",
     "text": [
      "Created DataFrame with 60 books\n+----+------------------------------------------------------------------------------------------------------------------------------------------------+------------------+-----+------+---------+-------+------------+------------+\n|rank|title                                                                                                                                           |author            |price|rating|reviews  |format |scraped_date|scraped_time|\n+----+------------------------------------------------------------------------------------------------------------------------------------------------+------------------+-----+------+---------+-------+------------+------------+\n|1   |Under Siege: My Family's Fight to Save Our Nation                                                                                               |Eric Trump        |N/A  |4.3   |55       |Unknown|2025-10-16  |19:39:09    |\n|2   |1929: Inside the Greatest Crash in Wall Street History--and How It Shattered a Nation                                                           |Andrew Ross Sorkin|N/A  |4.4   |8        |Unknown|2025-10-16  |19:39:09    |\n|3   |How to Test Negative for Stupid: And Why Washington Never Will                                                                                  |John Kennedy      |N/A  |4.8   |1,144    |Unknown|2025-10-16  |19:39:09    |\n|4   |The Let Them Theory: A Life-Changing Tool That Millions of People Can't Stop Talking About                                                      |Mel Robbins       |N/A  |4.6   |28,844   |Unknown|2025-10-16  |19:39:09    |\n|5   |Partypooper: A side-splitting birthday disaster from the #1 international bestselling Diary of a Wimpy Kid series (Book 20) (Volume 20)         |Jeff Kinney       |N/A  |N/A   |Hardcover|Unknown|2025-10-16  |19:39:09    |\n|6   |The Boy, the Mole, the Fox and the Horse: Inspiring Conversations on Hope, Love and Personal Growth                                             |Charlie Mackesy   |N/A  |4.8   |126,302  |Unknown|2025-10-16  |19:39:09    |\n|7   |Gone Before Goodbye                                                                                                                             |Harlan Coben      |N/A  |4.2   |59       |Unknown|2025-10-16  |19:39:09    |\n|8   |Hostage                                                                                                                                         |Eli Sharabi       |N/A  |4.9   |532      |Unknown|2025-10-16  |19:39:09    |\n|9   |I Love You to the Moon and Back                                                                                                                 |Amelia Hepworth   |N/A  |4.9   |79,052   |Unknown|2025-10-16  |19:39:09    |\n|10  |Separation of Church and Hate: A Sane Person's Guide to Taking Back the Bible from Fundamentalists, Fascists, and Flock-Fleecing Frauds         |John Fugelsang    |N/A  |4.8   |494      |Unknown|2025-10-16  |19:39:09    |\n|11  |107 Days                                                                                                                                        |Kamala Harris     |N/A  |4.5   |2,888    |Unknown|2025-10-16  |19:39:09    |\n|12  |My First Learn-to-Write Workbook: Practice for Kids with Pen Control, Line Tracing, Letters, and More!                                          |Crystal Radke     |N/A  |4.8   |87,980   |Unknown|2025-10-16  |19:39:09    |\n|13  |The Promise of Heaven: 31 Reasons to Get Excited About Your Eternal Home                                                                        |Dr. David Jeremiah|N/A  |4.4   |37       |Unknown|2025-10-16  |19:39:09    |\n|14  |Remain: A Supernatural Love Story                                                                                                               |Nicholas Sparks   |N/A  |4.3   |50       |Unknown|2025-10-16  |19:39:09    |\n|15  |Spooky Cutie: Coloring Book for Adults and Teens Featuring Adorable Creepy Creatures in Cozy Hygge Moments for Relaxation (Cozy Spaces Coloring)|Coco Wyo          |N/A  |4.8   |5,508    |Unknown|2025-10-16  |19:39:09    |\n|16  |The Secret of Secrets: A Novel (Robert Langdon)                                                                                                 |Dan Brown         |N/A  |4.4   |17,167   |Unknown|2025-10-16  |19:39:09    |\n|17  |Regretting You                                                                                                                                  |Colleen Hoover    |N/A  |4.5   |223,993  |Unknown|2025-10-16  |19:39:09    |\n|18  |Dog Man: Big Jim Believes: A Graphic Novel (Dog Man #14): From the Creator of Captain Underpants                                                |Dav Pilkey        |N/A  |N/A   |Hardcover|Unknown|2025-10-16  |19:39:09    |\n|19  |The Leaf Thief: (The Perfect Fall Book for Children and Toddlers)                                                                               |Alice Hemming     |N/A  |4.8   |3,443    |Unknown|2025-10-16  |19:39:09    |\n|20  |The Very Hungry Caterpillar                                                                                                                     |Eric Carle        |N/A  |4.9   |77,700   |Unknown|2025-10-16  |19:39:09    |\n+----+------------------------------------------------------------------------------------------------------------------------------------------------+------------------+-----+------+---------+-------+------------+------------+\nonly showing top 20 rows\n"
     ]
    }
   ],
   "source": [
    "schema = StructType([\n",
    "    StructField(\"rank\", IntegerType(), True),\n",
    "    StructField(\"title\", StringType(), True),\n",
    "    StructField(\"author\", StringType(), True),\n",
    "    StructField(\"price\", StringType(), True),\n",
    "    StructField(\"rating\", StringType(), True),\n",
    "    StructField(\"reviews\", StringType(), True),\n",
    "    StructField(\"format\", StringType(), True),\n",
    "    StructField(\"scraped_date\", StringType(), True),\n",
    "    StructField(\"scraped_time\", StringType(), True)\n",
    "])\n",
    "\n",
    "books_df = spark.createDataFrame(books_data, schema)\n",
    "print(f\"Created DataFrame with {books_df.count()} books\")\n",
    "books_df.show(20, truncate=False)"
   ]
  },
  {
   "cell_type": "markdown",
   "metadata": {
    "application/vnd.databricks.v1+cell": {
     "cellMetadata": {},
     "inputWidgets": {},
     "nuid": "98e4e3a4-3974-40cf-8123-a3c10c2caae7",
     "showTitle": false,
     "tableResultSettingsMap": {},
     "title": ""
    }
   },
   "source": [
    "Data Cleaning and Transformation"
   ]
  },
  {
   "cell_type": "code",
   "execution_count": 0,
   "metadata": {
    "application/vnd.databricks.v1+cell": {
     "cellMetadata": {
      "byteLimit": 2048000,
      "rowLimit": 10000
     },
     "inputWidgets": {},
     "nuid": "98b3e97a-4884-409c-891e-815068ea49b3",
     "showTitle": false,
     "tableResultSettingsMap": {},
     "title": ""
    }
   },
   "outputs": [
    {
     "output_type": "stream",
     "name": "stdout",
     "output_type": "stream",
     "text": [
      "Cleaned data: 60 books\n"
     ]
    },
    {
     "output_type": "display_data",
     "data": {
      "text/html": [
       "<style scoped>\n",
       "  .table-result-container {\n",
       "    max-height: 300px;\n",
       "    overflow: auto;\n",
       "  }\n",
       "  table, th, td {\n",
       "    border: 1px solid black;\n",
       "    border-collapse: collapse;\n",
       "  }\n",
       "  th, td {\n",
       "    padding: 5px;\n",
       "  }\n",
       "  th {\n",
       "    text-align: left;\n",
       "  }\n",
       "</style><div class='table-result-container'><table class='table-result'><thead style='background-color: white'><tr><th>rank</th><th>title</th><th>author</th><th>price</th><th>rating</th><th>reviews</th><th>format</th><th>scraped_date</th><th>scraped_time</th><th>price_numeric</th><th>rating_numeric</th><th>reviews_numeric</th><th>author_clean</th><th>popularity_score</th><th>price_category</th></tr></thead><tbody><tr><td>1</td><td>Under Siege: My Family's Fight to Save Our Nation</td><td>Eric Trump</td><td>N/A</td><td>4.3</td><td>55</td><td>Unknown</td><td>2025-10-16</td><td>19:39:09</td><td>null</td><td>4.3</td><td>55</td><td>Eric Trump</td><td>236.50001049041748</td><td>Price Not Available</td></tr><tr><td>2</td><td>1929: Inside the Greatest Crash in Wall Street History--and How It Shattered a Nation</td><td>Andrew Ross Sorkin</td><td>N/A</td><td>4.4</td><td>8</td><td>Unknown</td><td>2025-10-16</td><td>19:39:09</td><td>null</td><td>4.4</td><td>8</td><td>Andrew Ross Sorkin</td><td>35.20000076293945</td><td>Price Not Available</td></tr><tr><td>3</td><td>How to Test Negative for Stupid: And Why Washington Never Will</td><td>John Kennedy</td><td>N/A</td><td>4.8</td><td>1,144</td><td>Unknown</td><td>2025-10-16</td><td>19:39:09</td><td>null</td><td>4.8</td><td>1144</td><td>John Kennedy</td><td>5491.200218200684</td><td>Price Not Available</td></tr><tr><td>4</td><td>The Let Them Theory: A Life-Changing Tool That Millions of People Can't Stop Talking About</td><td>Mel Robbins</td><td>N/A</td><td>4.6</td><td>28,844</td><td>Unknown</td><td>2025-10-16</td><td>19:39:09</td><td>null</td><td>4.6</td><td>28844</td><td>Mel Robbins</td><td>132682.3972492218</td><td>Price Not Available</td></tr><tr><td>5</td><td>Partypooper: A side-splitting birthday disaster from the #1 international bestselling Diary of a Wimpy Kid series (Book 20) (Volume 20)</td><td>Jeff Kinney</td><td>N/A</td><td>N/A</td><td>Hardcover</td><td>Unknown</td><td>2025-10-16</td><td>19:39:09</td><td>null</td><td>null</td><td>null</td><td>Jeff Kinney</td><td>null</td><td>Price Not Available</td></tr><tr><td>6</td><td>The Boy, the Mole, the Fox and the Horse: Inspiring Conversations on Hope, Love and Personal Growth</td><td>Charlie Mackesy</td><td>N/A</td><td>4.8</td><td>126,302</td><td>Unknown</td><td>2025-10-16</td><td>19:39:09</td><td>null</td><td>4.8</td><td>126302</td><td>Charlie Mackesy</td><td>606249.6240901947</td><td>Price Not Available</td></tr><tr><td>7</td><td>Gone Before Goodbye</td><td>Harlan Coben</td><td>N/A</td><td>4.2</td><td>59</td><td>Unknown</td><td>2025-10-16</td><td>19:39:09</td><td>null</td><td>4.2</td><td>59</td><td>Harlan Coben</td><td>247.79998874664307</td><td>Price Not Available</td></tr><tr><td>8</td><td>Hostage</td><td>Eli Sharabi</td><td>N/A</td><td>4.9</td><td>532</td><td>Unknown</td><td>2025-10-16</td><td>19:39:09</td><td>null</td><td>4.9</td><td>532</td><td>Eli Sharabi</td><td>2606.8000507354736</td><td>Price Not Available</td></tr><tr><td>9</td><td>I Love You to the Moon and Back</td><td>Amelia Hepworth</td><td>N/A</td><td>4.9</td><td>79,052</td><td>Unknown</td><td>2025-10-16</td><td>19:39:09</td><td>null</td><td>4.9</td><td>79052</td><td>Amelia Hepworth</td><td>387354.8075389862</td><td>Price Not Available</td></tr><tr><td>10</td><td>Separation of Church and Hate: A Sane Person's Guide to Taking Back the Bible from Fundamentalists, Fascists, and Flock-Fleecing Frauds</td><td>John Fugelsang</td><td>N/A</td><td>4.8</td><td>494</td><td>Unknown</td><td>2025-10-16</td><td>19:39:09</td><td>null</td><td>4.8</td><td>494</td><td>John Fugelsang</td><td>2371.2000942230225</td><td>Price Not Available</td></tr><tr><td>11</td><td>107 Days</td><td>Kamala Harris</td><td>N/A</td><td>4.5</td><td>2,888</td><td>Unknown</td><td>2025-10-16</td><td>19:39:09</td><td>null</td><td>4.5</td><td>2888</td><td>Kamala Harris</td><td>12996.0</td><td>Price Not Available</td></tr><tr><td>12</td><td>My First Learn-to-Write Workbook: Practice for Kids with Pen Control, Line Tracing, Letters, and More!</td><td>Crystal Radke</td><td>N/A</td><td>4.8</td><td>87,980</td><td>Unknown</td><td>2025-10-16</td><td>19:39:09</td><td>null</td><td>4.8</td><td>87980</td><td>Crystal Radke</td><td>422304.0167808533</td><td>Price Not Available</td></tr><tr><td>13</td><td>The Promise of Heaven: 31 Reasons to Get Excited About Your Eternal Home</td><td>Dr. David Jeremiah</td><td>N/A</td><td>4.4</td><td>37</td><td>Unknown</td><td>2025-10-16</td><td>19:39:09</td><td>null</td><td>4.4</td><td>37</td><td>Dr. David Jeremiah</td><td>162.80000352859497</td><td>Price Not Available</td></tr><tr><td>14</td><td>Remain: A Supernatural Love Story</td><td>Nicholas Sparks</td><td>N/A</td><td>4.3</td><td>50</td><td>Unknown</td><td>2025-10-16</td><td>19:39:09</td><td>null</td><td>4.3</td><td>50</td><td>Nicholas Sparks</td><td>215.00000953674316</td><td>Price Not Available</td></tr><tr><td>15</td><td>Spooky Cutie: Coloring Book for Adults and Teens Featuring Adorable Creepy Creatures in Cozy Hygge Moments for Relaxation (Cozy Spaces Coloring)</td><td>Coco Wyo</td><td>N/A</td><td>4.8</td><td>5,508</td><td>Unknown</td><td>2025-10-16</td><td>19:39:09</td><td>null</td><td>4.8</td><td>5508</td><td>Coco Wyo</td><td>26438.401050567627</td><td>Price Not Available</td></tr><tr><td>16</td><td>The Secret of Secrets: A Novel (Robert Langdon)</td><td>Dan Brown</td><td>N/A</td><td>4.4</td><td>17,167</td><td>Unknown</td><td>2025-10-16</td><td>19:39:09</td><td>null</td><td>4.4</td><td>17167</td><td>Dan Brown</td><td>75534.8016371727</td><td>Price Not Available</td></tr><tr><td>17</td><td>Regretting You</td><td>Colleen Hoover</td><td>N/A</td><td>4.5</td><td>223,993</td><td>Unknown</td><td>2025-10-16</td><td>19:39:09</td><td>null</td><td>4.5</td><td>223993</td><td>Colleen Hoover</td><td>1007968.5</td><td>Price Not Available</td></tr><tr><td>18</td><td>Dog Man: Big Jim Believes: A Graphic Novel (Dog Man #14): From the Creator of Captain Underpants</td><td>Dav Pilkey</td><td>N/A</td><td>N/A</td><td>Hardcover</td><td>Unknown</td><td>2025-10-16</td><td>19:39:09</td><td>null</td><td>null</td><td>null</td><td>Dav Pilkey</td><td>null</td><td>Price Not Available</td></tr><tr><td>19</td><td>The Leaf Thief: (The Perfect Fall Book for Children and Toddlers)</td><td>Alice Hemming</td><td>N/A</td><td>4.8</td><td>3,443</td><td>Unknown</td><td>2025-10-16</td><td>19:39:09</td><td>null</td><td>4.8</td><td>3443</td><td>Alice Hemming</td><td>16526.400656700134</td><td>Price Not Available</td></tr><tr><td>20</td><td>The Very Hungry Caterpillar</td><td>Eric Carle</td><td>N/A</td><td>4.9</td><td>77,700</td><td>Unknown</td><td>2025-10-16</td><td>19:39:09</td><td>null</td><td>4.9</td><td>77700</td><td>Eric Carle</td><td>380730.00741004944</td><td>Price Not Available</td></tr><tr><td>21</td><td>Nobody's Girl: A Memoir of Surviving Abuse and Fighting for Justice</td><td>Virginia Roberts Giuffre</td><td>N/A</td><td>N/A</td><td>Hardcover</td><td>Unknown</td><td>2025-10-16</td><td>19:39:09</td><td>null</td><td>null</td><td>null</td><td>Virginia Roberts Giuffre</td><td>null</td><td>Price Not Available</td></tr><tr><td>22</td><td>Atomic Habits: An Easy & Proven Way to Build Good Habits & Break Bad Ones</td><td>James Clear</td><td>N/A</td><td>4.8</td><td>134,675</td><td>Unknown</td><td>2025-10-16</td><td>19:39:09</td><td>null</td><td>4.8</td><td>134675</td><td>James Clear</td><td>646440.0256872177</td><td>Price Not Available</td></tr><tr><td>23</td><td>The Housemaid</td><td>Freida McFadden</td><td>N/A</td><td>4.5</td><td>561,005</td><td>Unknown</td><td>2025-10-16</td><td>19:39:09</td><td>null</td><td>4.5</td><td>561005</td><td>Freida McFadden</td><td>2524522.5</td><td>Price Not Available</td></tr><tr><td>24</td><td>Room on the Broom</td><td>Julia Donaldson</td><td>N/A</td><td>4.9</td><td>35,864</td><td>Unknown</td><td>2025-10-16</td><td>19:39:09</td><td>null</td><td>4.9</td><td>35864</td><td>Julia Donaldson</td><td>175733.60342025757</td><td>Price Not Available</td></tr><tr><td>25</td><td>How to Catch a Witch: A Halloween Picture Book for Kids</td><td>Alice Walstead</td><td>N/A</td><td>4.6</td><td>2,479</td><td>Unknown</td><td>2025-10-16</td><td>19:39:09</td><td>null</td><td>4.6</td><td>2479</td><td>Alice Walstead</td><td>11403.399763584137</td><td>Price Not Available</td></tr><tr><td>26</td><td>Alchemised</td><td>SenLinYu</td><td>N/A</td><td>4.8</td><td>5,850</td><td>Unknown</td><td>2025-10-16</td><td>19:39:09</td><td>null</td><td>4.8</td><td>5850</td><td>SenLinYu</td><td>28080.00111579895</td><td>Price Not Available</td></tr><tr><td>27</td><td>The Psychology of Money: Timeless lessons on wealth, greed, and happiness</td><td>Morgan Housel</td><td>N/A</td><td>4.7</td><td>65,714</td><td>Unknown</td><td>2025-10-16</td><td>19:39:09</td><td>null</td><td>4.7</td><td>65714</td><td>Morgan Housel</td><td>308855.7874660492</td><td>Price Not Available</td></tr><tr><td>28</td><td>Animal Farm: 75th Anniversary Edition</td><td>George Orwell</td><td>N/A</td><td>4.6</td><td>90,335</td><td>Unknown</td><td>2025-10-16</td><td>19:39:09</td><td>null</td><td>4.6</td><td>90335</td><td>George Orwell</td><td>415540.99138498306</td><td>Price Not Available</td></tr><tr><td>29</td><td>The Spooky Wheels on the Bus: (A Holiday Wheels on the Bus Book)</td><td>J. Elizabeth Mills</td><td>N/A</td><td>4.8</td><td>8,602</td><td>Unknown</td><td>2025-10-16</td><td>19:39:09</td><td>null</td><td>4.8</td><td>8602</td><td>J. Elizabeth Mills</td><td>41289.601640701294</td><td>Price Not Available</td></tr><tr><td>30</td><td>How To Draw Everything: 300 Drawings of Cute Stuff, Animals, Food, Gifts, and other Amazing Things | Book For Kids</td><td>Emma Greene</td><td>N/A</td><td>4.7</td><td>4,845</td><td>Unknown</td><td>2025-10-16</td><td>19:39:09</td><td>null</td><td>4.7</td><td>4845</td><td>Emma Greene</td><td>22771.499075889587</td><td>Price Not Available</td></tr><tr><td>51</td><td>My First Library: Boxset of 10 Board Books for Kids</td><td>Wonder House Books</td><td>N/A</td><td>4.6</td><td>86,173</td><td>Unknown</td><td>2025-10-16</td><td>19:39:12</td><td>null</td><td>4.6</td><td>86173</td><td>Wonder House Books</td><td>396395.7917819023</td><td>Price Not Available</td></tr><tr><td>52</td><td>Lots of Knock-Knock Jokes for Kids: A Funny, Laugh Out Loud Busy Book for Children with Over 250 Jokes, Riddles, Tongue Twisters, and Puns</td><td>Whee Winn</td><td>N/A</td><td>4.6</td><td>12,207</td><td>Unknown</td><td>2025-10-16</td><td>19:39:12</td><td>null</td><td>4.6</td><td>12207</td><td>Whee Winn</td><td>56152.19883584976</td><td>Price Not Available</td></tr><tr><td>53</td><td>The Body Keeps the Score: Brain, Mind, and Body in the Healing of Trauma</td><td>Bessel van der Kolk M.D.</td><td>N/A</td><td>4.8</td><td>81,284</td><td>Unknown</td><td>2025-10-16</td><td>19:39:12</td><td>null</td><td>4.8</td><td>81284</td><td>Bessel van der Kolk M.D.</td><td>390163.2155036926</td><td>Price Not Available</td></tr><tr><td>54</td><td>The Rainbow Fish</td><td>Marcus Pfister</td><td>N/A</td><td>4.8</td><td>7,703</td><td>Unknown</td><td>2025-10-16</td><td>19:39:12</td><td>null</td><td>4.8</td><td>7703</td><td>Marcus Pfister</td><td>36974.40146923065</td><td>Price Not Available</td></tr><tr><td>55</td><td>Little Blue Truck's Halloween: A Fun And Interactive Lift-the-Flap Book For Kids Celebrating Halloween With Little Blue Truck And Friends</td><td>Alice Schertle</td><td>N/A</td><td>4.9</td><td>14,880</td><td>Unknown</td><td>2025-10-16</td><td>19:39:12</td><td>null</td><td>4.9</td><td>14880</td><td>Alice Schertle</td><td>72912.00141906738</td><td>Price Not Available</td></tr><tr><td>56</td><td>Pete the Cat: Trick or Pete</td><td>James Dean</td><td>N/A</td><td>4.8</td><td>5,149</td><td>Unknown</td><td>2025-10-16</td><td>19:39:12</td><td>null</td><td>4.8</td><td>5149</td><td>James Dean</td><td>24715.20098209381</td><td>Price Not Available</td></tr><tr><td>57</td><td>The Book of Unusual Knowledge</td><td>Publications International Ltd.</td><td>N/A</td><td>4.6</td><td>21,239</td><td>Unknown</td><td>2025-10-16</td><td>19:39:12</td><td>null</td><td>4.6</td><td>21239</td><td>Publications International Ltd.</td><td>97699.39797449112</td><td>Price Not Available</td></tr><tr><td>58</td><td>Cry Havoc: A Tom Reece Thriller</td><td>Jack Carr</td><td>N/A</td><td>4.8</td><td>577</td><td>Unknown</td><td>2025-10-16</td><td>19:39:12</td><td>null</td><td>4.8</td><td>577</td><td>Jack Carr</td><td>2769.600110054016</td><td>Price Not Available</td></tr><tr><td>59</td><td>The Day the Crayons Quit</td><td>Drew Daywalt</td><td>N/A</td><td>4.8</td><td>24,584</td><td>Unknown</td><td>2025-10-16</td><td>19:39:12</td><td>null</td><td>4.8</td><td>24584</td><td>Drew Daywalt</td><td>118003.20468902588</td><td>Price Not Available</td></tr><tr><td>60</td><td>The Dragon's Prophecy: Israel, the Dark Resurrection, and the End of Days</td><td>Jonathan Cahn</td><td>N/A</td><td>4.8</td><td>4,634</td><td>Unknown</td><td>2025-10-16</td><td>19:39:12</td><td>null</td><td>4.8</td><td>4634</td><td>Jonathan Cahn</td><td>22243.200883865356</td><td>Price Not Available</td></tr><tr><td>61</td><td>Skinnytaste High Protein: 100 Healthy, Simple Recipes to Fuel Your Day: A Cookbook</td><td>Gina Homolka</td><td>N/A</td><td>4.7</td><td>51</td><td>Unknown</td><td>2025-10-16</td><td>19:39:12</td><td>null</td><td>4.7</td><td>51</td><td>Gina Homolka</td><td>239.69999027252197</td><td>Price Not Available</td></tr><tr><td>62</td><td>Project Hail Mary: A Novel</td><td>Andy Weir</td><td>N/A</td><td>4.7</td><td>171,663</td><td>Unknown</td><td>2025-10-16</td><td>19:39:12</td><td>null</td><td>4.7</td><td>171663</td><td>Andy Weir</td><td>806816.0672578812</td><td>Price Not Available</td></tr><tr><td>63</td><td>Pagan Threat: Confronting America's Godless Uprising with a Foreword by Charlie Kirk</td><td>Lucas Miles</td><td>N/A</td><td>3.6</td><td>215</td><td>Unknown</td><td>2025-10-16</td><td>19:39:12</td><td>null</td><td>3.6</td><td>215</td><td>Lucas Miles</td><td>773.9999794960022</td><td>Price Not Available</td></tr><tr><td>64</td><td>The Frozen River: A GMA Book Club Pick: A Novel</td><td>Ariel Lawhon</td><td>N/A</td><td>4.6</td><td>89,771</td><td>Unknown</td><td>2025-10-16</td><td>19:39:12</td><td>null</td><td>4.6</td><td>89771</td><td>Ariel Lawhon</td><td>412946.5914387703</td><td>Price Not Available</td></tr><tr><td>65</td><td>Future Boy: Back to the Future and My Journey Through the Space-Time Continuum</td><td>Michael J. Fox</td><td>N/A</td><td>4.6</td><td>6</td><td>Unknown</td><td>2025-10-16</td><td>19:39:12</td><td>null</td><td>4.6</td><td>6</td><td>Michael J. Fox</td><td>27.59999942779541</td><td>Price Not Available</td></tr><tr><td>66</td><td>Stress Relief: Coloring Book for Adults and Kids, Bold and Easy, Simple and Big Designs for Relaxation Featuring Animals, Landscape, Flowers, Patterns, Cute Things And Many More</td><td>Coco Wyo</td><td>N/A</td><td>4.8</td><td>5,971</td><td>Unknown</td><td>2025-10-16</td><td>19:39:12</td><td>null</td><td>4.8</td><td>5971</td><td>Coco Wyo</td><td>28660.80113887787</td><td>Price Not Available</td></tr><tr><td>67</td><td>Chicka Chicka Boom Boom (Board Book)</td><td>Bill Martin Jr.</td><td>N/A</td><td>4.9</td><td>40,911</td><td>Unknown</td><td>2025-10-16</td><td>19:39:12</td><td>null</td><td>4.9</td><td>40911</td><td>Bill Martin Jr.</td><td>200463.903901577</td><td>Price Not Available</td></tr><tr><td>68</td><td>Bob Books - Set 1: Beginning Readers Box Set | Phonics, Ages 4 and up, Kindergarten (Stage 1: Starting to Read)</td><td>Bobby Lynn Maslen</td><td>N/A</td><td>4.8</td><td>Bobby Lynn Maslen</td><td>Unknown</td><td>2025-10-16</td><td>19:39:12</td><td>null</td><td>4.8</td><td>null</td><td>BobLynn Maslen</td><td>null</td><td>Price Not Available</td></tr><tr><td>69</td><td>A Beautiful Year in the Bible: The 52-Week Bible Study for Women (SC)</td><td>Alabaster Co.</td><td>N/A</td><td>4.7</td><td>2,197</td><td>Unknown</td><td>2025-10-16</td><td>19:39:12</td><td>null</td><td>4.7</td><td>2197</td><td>Alabaster Co.</td><td>10325.899580955505</td><td>Price Not Available</td></tr><tr><td>70</td><td>The Anxious Generation: How the Great Rewiring of Childhood Is Causing an Epidemic of Mental Illness</td><td>Jonathan Haidt</td><td>N/A</td><td>4.6</td><td>10,273</td><td>Unknown</td><td>2025-10-16</td><td>19:39:12</td><td>null</td><td>4.6</td><td>10273</td><td>Jonathan Haidt</td><td>47255.799020290375</td><td>Price Not Available</td></tr><tr><td>71</td><td>The Wonderful Things You Will Be</td><td>Emily Winfield Martin</td><td>N/A</td><td>4.9</td><td>31,943</td><td>Unknown</td><td>2025-10-16</td><td>19:39:12</td><td>null</td><td>4.9</td><td>31943</td><td>Emily Winfield Martin</td><td>156520.70304632187</td><td>Price Not Available</td></tr><tr><td>72</td><td>Five Little Pumpkins: A Rhyming Pumpkin Book for Kids and Toddlers</td><td>Tiger Tales</td><td>N/A</td><td>4.8</td><td>1,476</td><td>Unknown</td><td>2025-10-16</td><td>19:39:12</td><td>null</td><td>4.8</td><td>1476</td><td>Tiger Tales</td><td>7084.800281524658</td><td>Price Not Available</td></tr><tr><td>73</td><td>The Going To Bed Book</td><td>Sandra Boynton</td><td>N/A</td><td>4.8</td><td>19,215</td><td>Unknown</td><td>2025-10-16</td><td>19:39:12</td><td>null</td><td>4.8</td><td>19215</td><td>Sandra Boynton</td><td>92232.0036649704</td><td>Price Not Available</td></tr><tr><td>74</td><td>Cozy Girl Season: Bold and Easy Coloring Book for Adults & Teens, Featuring Fall, Halloween, and Christmas Designs | Simple, Cute Illustrations for Hygge and Relaxation</td><td>Jeanett Veronica</td><td>N/A</td><td>4.6</td><td>74</td><td>Unknown</td><td>2025-10-16</td><td>19:39:12</td><td>null</td><td>4.6</td><td>74</td><td>Jeanett Veronica</td><td>340.39999294281006</td><td>Price Not Available</td></tr><tr><td>75</td><td>Goodnight Moon</td><td>Margaret Wise Brown</td><td>N/A</td><td>4.9</td><td>30,773</td><td>Unknown</td><td>2025-10-16</td><td>19:39:12</td><td>null</td><td>4.9</td><td>30773</td><td>Margaret Wise Brown</td><td>150787.70293474197</td><td>Price Not Available</td></tr><tr><td>76</td><td>Last Rites</td><td>Ozzy Osbourne</td><td>N/A</td><td>4.8</td><td>195</td><td>Unknown</td><td>2025-10-16</td><td>19:39:12</td><td>null</td><td>4.8</td><td>195</td><td>Ozzy Osbourne</td><td>936.0000371932983</td><td>Price Not Available</td></tr><tr><td>77</td><td>My Sticker Dress-Up: Dancers: Awesome Activity Book with 350+ Stickers for Unlimited Possibilities!</td><td>Louise Anglicas</td><td>N/A</td><td>4.7</td><td>914</td><td>Unknown</td><td>2025-10-16</td><td>19:39:12</td><td>null</td><td>4.7</td><td>914</td><td>Louise Anglicas</td><td>4295.799825668335</td><td>Price Not Available</td></tr><tr><td>78</td><td>Man's Search for Meaning</td><td>Viktor E. Frankl</td><td>N/A</td><td>4.7</td><td>94,944</td><td>Unknown</td><td>2025-10-16</td><td>19:39:12</td><td>null</td><td>4.7</td><td>94944</td><td>Viktor E. Frankl</td><td>446236.78189086914</td><td>Price Not Available</td></tr><tr><td>79</td><td>Mate</td><td>Ali Hazelwood</td><td>N/A</td><td>4.6</td><td>7,036</td><td>Unknown</td><td>2025-10-16</td><td>19:39:12</td><td>null</td><td>4.6</td><td>7036</td><td>Ali Hazelwood</td><td>32365.59932899475</td><td>Price Not Available</td></tr><tr><td>80</td><td>The Four Agreements: A Practical Guide to Personal Freedom</td><td>Don Miguel Ruiz</td><td>N/A</td><td>4.7</td><td>118,560</td><td>Unknown</td><td>2025-10-16</td><td>19:39:12</td><td>null</td><td>4.7</td><td>118560</td><td>Don Miguel Ruiz</td><td>557231.9773864746</td><td>Price Not Available</td></tr></tbody></table></div>"
      ]
     },
     "metadata": {
      "application/vnd.databricks.v1+output": {
       "addedWidgets": {},
       "aggData": [],
       "aggError": "",
       "aggOverflow": false,
       "aggSchema": [],
       "aggSeriesLimitReached": false,
       "aggType": "",
       "arguments": {},
       "columnCustomDisplayInfos": {},
       "data": [
        [
         1,
         "Under Siege: My Family's Fight to Save Our Nation",
         "Eric Trump",
         "N/A",
         "4.3",
         "55",
         "Unknown",
         "2025-10-16",
         "19:39:09",
         null,
         4.3,
         55,
         "Eric Trump",
         236.50001049041748,
         "Price Not Available"
        ],
        [
         2,
         "1929: Inside the Greatest Crash in Wall Street History--and How It Shattered a Nation",
         "Andrew Ross Sorkin",
         "N/A",
         "4.4",
         "8",
         "Unknown",
         "2025-10-16",
         "19:39:09",
         null,
         4.4,
         8,
         "Andrew Ross Sorkin",
         35.20000076293945,
         "Price Not Available"
        ],
        [
         3,
         "How to Test Negative for Stupid: And Why Washington Never Will",
         "John Kennedy",
         "N/A",
         "4.8",
         "1,144",
         "Unknown",
         "2025-10-16",
         "19:39:09",
         null,
         4.8,
         1144,
         "John Kennedy",
         5491.200218200684,
         "Price Not Available"
        ],
        [
         4,
         "The Let Them Theory: A Life-Changing Tool That Millions of People Can't Stop Talking About",
         "Mel Robbins",
         "N/A",
         "4.6",
         "28,844",
         "Unknown",
         "2025-10-16",
         "19:39:09",
         null,
         4.6,
         28844,
         "Mel Robbins",
         132682.3972492218,
         "Price Not Available"
        ],
        [
         5,
         "Partypooper: A side-splitting birthday disaster from the #1 international bestselling Diary of a Wimpy Kid series (Book 20) (Volume 20)",
         "Jeff Kinney",
         "N/A",
         "N/A",
         "Hardcover",
         "Unknown",
         "2025-10-16",
         "19:39:09",
         null,
         null,
         null,
         "Jeff Kinney",
         null,
         "Price Not Available"
        ],
        [
         6,
         "The Boy, the Mole, the Fox and the Horse: Inspiring Conversations on Hope, Love and Personal Growth",
         "Charlie Mackesy",
         "N/A",
         "4.8",
         "126,302",
         "Unknown",
         "2025-10-16",
         "19:39:09",
         null,
         4.8,
         126302,
         "Charlie Mackesy",
         606249.6240901947,
         "Price Not Available"
        ],
        [
         7,
         "Gone Before Goodbye",
         "Harlan Coben",
         "N/A",
         "4.2",
         "59",
         "Unknown",
         "2025-10-16",
         "19:39:09",
         null,
         4.2,
         59,
         "Harlan Coben",
         247.79998874664307,
         "Price Not Available"
        ],
        [
         8,
         "Hostage",
         "Eli Sharabi",
         "N/A",
         "4.9",
         "532",
         "Unknown",
         "2025-10-16",
         "19:39:09",
         null,
         4.9,
         532,
         "Eli Sharabi",
         2606.8000507354736,
         "Price Not Available"
        ],
        [
         9,
         "I Love You to the Moon and Back",
         "Amelia Hepworth",
         "N/A",
         "4.9",
         "79,052",
         "Unknown",
         "2025-10-16",
         "19:39:09",
         null,
         4.9,
         79052,
         "Amelia Hepworth",
         387354.8075389862,
         "Price Not Available"
        ],
        [
         10,
         "Separation of Church and Hate: A Sane Person's Guide to Taking Back the Bible from Fundamentalists, Fascists, and Flock-Fleecing Frauds",
         "John Fugelsang",
         "N/A",
         "4.8",
         "494",
         "Unknown",
         "2025-10-16",
         "19:39:09",
         null,
         4.8,
         494,
         "John Fugelsang",
         2371.2000942230225,
         "Price Not Available"
        ],
        [
         11,
         "107 Days",
         "Kamala Harris",
         "N/A",
         "4.5",
         "2,888",
         "Unknown",
         "2025-10-16",
         "19:39:09",
         null,
         4.5,
         2888,
         "Kamala Harris",
         12996.0,
         "Price Not Available"
        ],
        [
         12,
         "My First Learn-to-Write Workbook: Practice for Kids with Pen Control, Line Tracing, Letters, and More!",
         "Crystal Radke",
         "N/A",
         "4.8",
         "87,980",
         "Unknown",
         "2025-10-16",
         "19:39:09",
         null,
         4.8,
         87980,
         "Crystal Radke",
         422304.0167808533,
         "Price Not Available"
        ],
        [
         13,
         "The Promise of Heaven: 31 Reasons to Get Excited About Your Eternal Home",
         "Dr. David Jeremiah",
         "N/A",
         "4.4",
         "37",
         "Unknown",
         "2025-10-16",
         "19:39:09",
         null,
         4.4,
         37,
         "Dr. David Jeremiah",
         162.80000352859497,
         "Price Not Available"
        ],
        [
         14,
         "Remain: A Supernatural Love Story",
         "Nicholas Sparks",
         "N/A",
         "4.3",
         "50",
         "Unknown",
         "2025-10-16",
         "19:39:09",
         null,
         4.3,
         50,
         "Nicholas Sparks",
         215.00000953674316,
         "Price Not Available"
        ],
        [
         15,
         "Spooky Cutie: Coloring Book for Adults and Teens Featuring Adorable Creepy Creatures in Cozy Hygge Moments for Relaxation (Cozy Spaces Coloring)",
         "Coco Wyo",
         "N/A",
         "4.8",
         "5,508",
         "Unknown",
         "2025-10-16",
         "19:39:09",
         null,
         4.8,
         5508,
         "Coco Wyo",
         26438.401050567627,
         "Price Not Available"
        ],
        [
         16,
         "The Secret of Secrets: A Novel (Robert Langdon)",
         "Dan Brown",
         "N/A",
         "4.4",
         "17,167",
         "Unknown",
         "2025-10-16",
         "19:39:09",
         null,
         4.4,
         17167,
         "Dan Brown",
         75534.8016371727,
         "Price Not Available"
        ],
        [
         17,
         "Regretting You",
         "Colleen Hoover",
         "N/A",
         "4.5",
         "223,993",
         "Unknown",
         "2025-10-16",
         "19:39:09",
         null,
         4.5,
         223993,
         "Colleen Hoover",
         1007968.5,
         "Price Not Available"
        ],
        [
         18,
         "Dog Man: Big Jim Believes: A Graphic Novel (Dog Man #14): From the Creator of Captain Underpants",
         "Dav Pilkey",
         "N/A",
         "N/A",
         "Hardcover",
         "Unknown",
         "2025-10-16",
         "19:39:09",
         null,
         null,
         null,
         "Dav Pilkey",
         null,
         "Price Not Available"
        ],
        [
         19,
         "The Leaf Thief: (The Perfect Fall Book for Children and Toddlers)",
         "Alice Hemming",
         "N/A",
         "4.8",
         "3,443",
         "Unknown",
         "2025-10-16",
         "19:39:09",
         null,
         4.8,
         3443,
         "Alice Hemming",
         16526.400656700134,
         "Price Not Available"
        ],
        [
         20,
         "The Very Hungry Caterpillar",
         "Eric Carle",
         "N/A",
         "4.9",
         "77,700",
         "Unknown",
         "2025-10-16",
         "19:39:09",
         null,
         4.9,
         77700,
         "Eric Carle",
         380730.00741004944,
         "Price Not Available"
        ],
        [
         21,
         "Nobody's Girl: A Memoir of Surviving Abuse and Fighting for Justice",
         "Virginia Roberts Giuffre",
         "N/A",
         "N/A",
         "Hardcover",
         "Unknown",
         "2025-10-16",
         "19:39:09",
         null,
         null,
         null,
         "Virginia Roberts Giuffre",
         null,
         "Price Not Available"
        ],
        [
         22,
         "Atomic Habits: An Easy & Proven Way to Build Good Habits & Break Bad Ones",
         "James Clear",
         "N/A",
         "4.8",
         "134,675",
         "Unknown",
         "2025-10-16",
         "19:39:09",
         null,
         4.8,
         134675,
         "James Clear",
         646440.0256872177,
         "Price Not Available"
        ],
        [
         23,
         "The Housemaid",
         "Freida McFadden",
         "N/A",
         "4.5",
         "561,005",
         "Unknown",
         "2025-10-16",
         "19:39:09",
         null,
         4.5,
         561005,
         "Freida McFadden",
         2524522.5,
         "Price Not Available"
        ],
        [
         24,
         "Room on the Broom",
         "Julia Donaldson",
         "N/A",
         "4.9",
         "35,864",
         "Unknown",
         "2025-10-16",
         "19:39:09",
         null,
         4.9,
         35864,
         "Julia Donaldson",
         175733.60342025757,
         "Price Not Available"
        ],
        [
         25,
         "How to Catch a Witch: A Halloween Picture Book for Kids",
         "Alice Walstead",
         "N/A",
         "4.6",
         "2,479",
         "Unknown",
         "2025-10-16",
         "19:39:09",
         null,
         4.6,
         2479,
         "Alice Walstead",
         11403.399763584137,
         "Price Not Available"
        ],
        [
         26,
         "Alchemised",
         "SenLinYu",
         "N/A",
         "4.8",
         "5,850",
         "Unknown",
         "2025-10-16",
         "19:39:09",
         null,
         4.8,
         5850,
         "SenLinYu",
         28080.00111579895,
         "Price Not Available"
        ],
        [
         27,
         "The Psychology of Money: Timeless lessons on wealth, greed, and happiness",
         "Morgan Housel",
         "N/A",
         "4.7",
         "65,714",
         "Unknown",
         "2025-10-16",
         "19:39:09",
         null,
         4.7,
         65714,
         "Morgan Housel",
         308855.7874660492,
         "Price Not Available"
        ],
        [
         28,
         "Animal Farm: 75th Anniversary Edition",
         "George Orwell",
         "N/A",
         "4.6",
         "90,335",
         "Unknown",
         "2025-10-16",
         "19:39:09",
         null,
         4.6,
         90335,
         "George Orwell",
         415540.99138498306,
         "Price Not Available"
        ],
        [
         29,
         "The Spooky Wheels on the Bus: (A Holiday Wheels on the Bus Book)",
         "J. Elizabeth Mills",
         "N/A",
         "4.8",
         "8,602",
         "Unknown",
         "2025-10-16",
         "19:39:09",
         null,
         4.8,
         8602,
         "J. Elizabeth Mills",
         41289.601640701294,
         "Price Not Available"
        ],
        [
         30,
         "How To Draw Everything: 300 Drawings of Cute Stuff, Animals, Food, Gifts, and other Amazing Things | Book For Kids",
         "Emma Greene",
         "N/A",
         "4.7",
         "4,845",
         "Unknown",
         "2025-10-16",
         "19:39:09",
         null,
         4.7,
         4845,
         "Emma Greene",
         22771.499075889587,
         "Price Not Available"
        ],
        [
         51,
         "My First Library: Boxset of 10 Board Books for Kids",
         "Wonder House Books",
         "N/A",
         "4.6",
         "86,173",
         "Unknown",
         "2025-10-16",
         "19:39:12",
         null,
         4.6,
         86173,
         "Wonder House Books",
         396395.7917819023,
         "Price Not Available"
        ],
        [
         52,
         "Lots of Knock-Knock Jokes for Kids: A Funny, Laugh Out Loud Busy Book for Children with Over 250 Jokes, Riddles, Tongue Twisters, and Puns",
         "Whee Winn",
         "N/A",
         "4.6",
         "12,207",
         "Unknown",
         "2025-10-16",
         "19:39:12",
         null,
         4.6,
         12207,
         "Whee Winn",
         56152.19883584976,
         "Price Not Available"
        ],
        [
         53,
         "The Body Keeps the Score: Brain, Mind, and Body in the Healing of Trauma",
         "Bessel van der Kolk M.D.",
         "N/A",
         "4.8",
         "81,284",
         "Unknown",
         "2025-10-16",
         "19:39:12",
         null,
         4.8,
         81284,
         "Bessel van der Kolk M.D.",
         390163.2155036926,
         "Price Not Available"
        ],
        [
         54,
         "The Rainbow Fish",
         "Marcus Pfister",
         "N/A",
         "4.8",
         "7,703",
         "Unknown",
         "2025-10-16",
         "19:39:12",
         null,
         4.8,
         7703,
         "Marcus Pfister",
         36974.40146923065,
         "Price Not Available"
        ],
        [
         55,
         "Little Blue Truck's Halloween: A Fun And Interactive Lift-the-Flap Book For Kids Celebrating Halloween With Little Blue Truck And Friends",
         "Alice Schertle",
         "N/A",
         "4.9",
         "14,880",
         "Unknown",
         "2025-10-16",
         "19:39:12",
         null,
         4.9,
         14880,
         "Alice Schertle",
         72912.00141906738,
         "Price Not Available"
        ],
        [
         56,
         "Pete the Cat: Trick or Pete",
         "James Dean",
         "N/A",
         "4.8",
         "5,149",
         "Unknown",
         "2025-10-16",
         "19:39:12",
         null,
         4.8,
         5149,
         "James Dean",
         24715.20098209381,
         "Price Not Available"
        ],
        [
         57,
         "The Book of Unusual Knowledge",
         "Publications International Ltd.",
         "N/A",
         "4.6",
         "21,239",
         "Unknown",
         "2025-10-16",
         "19:39:12",
         null,
         4.6,
         21239,
         "Publications International Ltd.",
         97699.39797449112,
         "Price Not Available"
        ],
        [
         58,
         "Cry Havoc: A Tom Reece Thriller",
         "Jack Carr",
         "N/A",
         "4.8",
         "577",
         "Unknown",
         "2025-10-16",
         "19:39:12",
         null,
         4.8,
         577,
         "Jack Carr",
         2769.600110054016,
         "Price Not Available"
        ],
        [
         59,
         "The Day the Crayons Quit",
         "Drew Daywalt",
         "N/A",
         "4.8",
         "24,584",
         "Unknown",
         "2025-10-16",
         "19:39:12",
         null,
         4.8,
         24584,
         "Drew Daywalt",
         118003.20468902588,
         "Price Not Available"
        ],
        [
         60,
         "The Dragon's Prophecy: Israel, the Dark Resurrection, and the End of Days",
         "Jonathan Cahn",
         "N/A",
         "4.8",
         "4,634",
         "Unknown",
         "2025-10-16",
         "19:39:12",
         null,
         4.8,
         4634,
         "Jonathan Cahn",
         22243.200883865356,
         "Price Not Available"
        ],
        [
         61,
         "Skinnytaste High Protein: 100 Healthy, Simple Recipes to Fuel Your Day: A Cookbook",
         "Gina Homolka",
         "N/A",
         "4.7",
         "51",
         "Unknown",
         "2025-10-16",
         "19:39:12",
         null,
         4.7,
         51,
         "Gina Homolka",
         239.69999027252197,
         "Price Not Available"
        ],
        [
         62,
         "Project Hail Mary: A Novel",
         "Andy Weir",
         "N/A",
         "4.7",
         "171,663",
         "Unknown",
         "2025-10-16",
         "19:39:12",
         null,
         4.7,
         171663,
         "Andy Weir",
         806816.0672578812,
         "Price Not Available"
        ],
        [
         63,
         "Pagan Threat: Confronting America's Godless Uprising with a Foreword by Charlie Kirk",
         "Lucas Miles",
         "N/A",
         "3.6",
         "215",
         "Unknown",
         "2025-10-16",
         "19:39:12",
         null,
         3.6,
         215,
         "Lucas Miles",
         773.9999794960022,
         "Price Not Available"
        ],
        [
         64,
         "The Frozen River: A GMA Book Club Pick: A Novel",
         "Ariel Lawhon",
         "N/A",
         "4.6",
         "89,771",
         "Unknown",
         "2025-10-16",
         "19:39:12",
         null,
         4.6,
         89771,
         "Ariel Lawhon",
         412946.5914387703,
         "Price Not Available"
        ],
        [
         65,
         "Future Boy: Back to the Future and My Journey Through the Space-Time Continuum",
         "Michael J. Fox",
         "N/A",
         "4.6",
         "6",
         "Unknown",
         "2025-10-16",
         "19:39:12",
         null,
         4.6,
         6,
         "Michael J. Fox",
         27.59999942779541,
         "Price Not Available"
        ],
        [
         66,
         "Stress Relief: Coloring Book for Adults and Kids, Bold and Easy, Simple and Big Designs for Relaxation Featuring Animals, Landscape, Flowers, Patterns, Cute Things And Many More",
         "Coco Wyo",
         "N/A",
         "4.8",
         "5,971",
         "Unknown",
         "2025-10-16",
         "19:39:12",
         null,
         4.8,
         5971,
         "Coco Wyo",
         28660.80113887787,
         "Price Not Available"
        ],
        [
         67,
         "Chicka Chicka Boom Boom (Board Book)",
         "Bill Martin Jr.",
         "N/A",
         "4.9",
         "40,911",
         "Unknown",
         "2025-10-16",
         "19:39:12",
         null,
         4.9,
         40911,
         "Bill Martin Jr.",
         200463.903901577,
         "Price Not Available"
        ],
        [
         68,
         "Bob Books - Set 1: Beginning Readers Box Set | Phonics, Ages 4 and up, Kindergarten (Stage 1: Starting to Read)",
         "Bobby Lynn Maslen",
         "N/A",
         "4.8",
         "Bobby Lynn Maslen",
         "Unknown",
         "2025-10-16",
         "19:39:12",
         null,
         4.8,
         null,
         "BobLynn Maslen",
         null,
         "Price Not Available"
        ],
        [
         69,
         "A Beautiful Year in the Bible: The 52-Week Bible Study for Women (SC)",
         "Alabaster Co.",
         "N/A",
         "4.7",
         "2,197",
         "Unknown",
         "2025-10-16",
         "19:39:12",
         null,
         4.7,
         2197,
         "Alabaster Co.",
         10325.899580955505,
         "Price Not Available"
        ],
        [
         70,
         "The Anxious Generation: How the Great Rewiring of Childhood Is Causing an Epidemic of Mental Illness",
         "Jonathan Haidt",
         "N/A",
         "4.6",
         "10,273",
         "Unknown",
         "2025-10-16",
         "19:39:12",
         null,
         4.6,
         10273,
         "Jonathan Haidt",
         47255.799020290375,
         "Price Not Available"
        ],
        [
         71,
         "The Wonderful Things You Will Be",
         "Emily Winfield Martin",
         "N/A",
         "4.9",
         "31,943",
         "Unknown",
         "2025-10-16",
         "19:39:12",
         null,
         4.9,
         31943,
         "Emily Winfield Martin",
         156520.70304632187,
         "Price Not Available"
        ],
        [
         72,
         "Five Little Pumpkins: A Rhyming Pumpkin Book for Kids and Toddlers",
         "Tiger Tales",
         "N/A",
         "4.8",
         "1,476",
         "Unknown",
         "2025-10-16",
         "19:39:12",
         null,
         4.8,
         1476,
         "Tiger Tales",
         7084.800281524658,
         "Price Not Available"
        ],
        [
         73,
         "The Going To Bed Book",
         "Sandra Boynton",
         "N/A",
         "4.8",
         "19,215",
         "Unknown",
         "2025-10-16",
         "19:39:12",
         null,
         4.8,
         19215,
         "Sandra Boynton",
         92232.0036649704,
         "Price Not Available"
        ],
        [
         74,
         "Cozy Girl Season: Bold and Easy Coloring Book for Adults & Teens, Featuring Fall, Halloween, and Christmas Designs | Simple, Cute Illustrations for Hygge and Relaxation",
         "Jeanett Veronica",
         "N/A",
         "4.6",
         "74",
         "Unknown",
         "2025-10-16",
         "19:39:12",
         null,
         4.6,
         74,
         "Jeanett Veronica",
         340.39999294281006,
         "Price Not Available"
        ],
        [
         75,
         "Goodnight Moon",
         "Margaret Wise Brown",
         "N/A",
         "4.9",
         "30,773",
         "Unknown",
         "2025-10-16",
         "19:39:12",
         null,
         4.9,
         30773,
         "Margaret Wise Brown",
         150787.70293474197,
         "Price Not Available"
        ],
        [
         76,
         "Last Rites",
         "Ozzy Osbourne",
         "N/A",
         "4.8",
         "195",
         "Unknown",
         "2025-10-16",
         "19:39:12",
         null,
         4.8,
         195,
         "Ozzy Osbourne",
         936.0000371932983,
         "Price Not Available"
        ],
        [
         77,
         "My Sticker Dress-Up: Dancers: Awesome Activity Book with 350+ Stickers for Unlimited Possibilities!",
         "Louise Anglicas",
         "N/A",
         "4.7",
         "914",
         "Unknown",
         "2025-10-16",
         "19:39:12",
         null,
         4.7,
         914,
         "Louise Anglicas",
         4295.799825668335,
         "Price Not Available"
        ],
        [
         78,
         "Man's Search for Meaning",
         "Viktor E. Frankl",
         "N/A",
         "4.7",
         "94,944",
         "Unknown",
         "2025-10-16",
         "19:39:12",
         null,
         4.7,
         94944,
         "Viktor E. Frankl",
         446236.78189086914,
         "Price Not Available"
        ],
        [
         79,
         "Mate",
         "Ali Hazelwood",
         "N/A",
         "4.6",
         "7,036",
         "Unknown",
         "2025-10-16",
         "19:39:12",
         null,
         4.6,
         7036,
         "Ali Hazelwood",
         32365.59932899475,
         "Price Not Available"
        ],
        [
         80,
         "The Four Agreements: A Practical Guide to Personal Freedom",
         "Don Miguel Ruiz",
         "N/A",
         "4.7",
         "118,560",
         "Unknown",
         "2025-10-16",
         "19:39:12",
         null,
         4.7,
         118560,
         "Don Miguel Ruiz",
         557231.9773864746,
         "Price Not Available"
        ]
       ],
       "datasetInfos": [],
       "dbfsResultPath": null,
       "isJsonSchema": true,
       "metadata": {},
       "overflow": false,
       "plotOptions": {
        "customPlotOptions": {},
        "displayType": "table",
        "pivotAggregation": null,
        "pivotColumns": null,
        "xColumns": null,
        "yColumns": null
       },
       "removedWidgets": [],
       "schema": [
        {
         "metadata": "{}",
         "name": "rank",
         "type": "\"integer\""
        },
        {
         "metadata": "{}",
         "name": "title",
         "type": "\"string\""
        },
        {
         "metadata": "{}",
         "name": "author",
         "type": "\"string\""
        },
        {
         "metadata": "{}",
         "name": "price",
         "type": "\"string\""
        },
        {
         "metadata": "{}",
         "name": "rating",
         "type": "\"string\""
        },
        {
         "metadata": "{}",
         "name": "reviews",
         "type": "\"string\""
        },
        {
         "metadata": "{}",
         "name": "format",
         "type": "\"string\""
        },
        {
         "metadata": "{}",
         "name": "scraped_date",
         "type": "\"string\""
        },
        {
         "metadata": "{}",
         "name": "scraped_time",
         "type": "\"string\""
        },
        {
         "metadata": "{}",
         "name": "price_numeric",
         "type": "\"float\""
        },
        {
         "metadata": "{}",
         "name": "rating_numeric",
         "type": "\"float\""
        },
        {
         "metadata": "{}",
         "name": "reviews_numeric",
         "type": "\"integer\""
        },
        {
         "metadata": "{}",
         "name": "author_clean",
         "type": "\"string\""
        },
        {
         "metadata": "{}",
         "name": "popularity_score",
         "type": "\"double\""
        },
        {
         "metadata": "{}",
         "name": "price_category",
         "type": "\"string\""
        }
       ],
       "type": "table"
      }
     },
     "output_type": "display_data"
    }
   ],
   "source": [
    "from pyspark.sql.functions import (\n",
    "    col, when, regexp_replace, regexp_extract\n",
    ")\n",
    "\n",
    "books_cleaned = books_df \\\n",
    "    .withColumn(\n",
    "        \"price_numeric\",\n",
    "        when(\n",
    "            col(\"price\") != \"N/A\",\n",
    "            regexp_replace(col(\"price\"), \"[$,]\", \"\").cast(\"float\")\n",
    "        ).otherwise(None)\n",
    "    ) \\\n",
    "    .withColumn(\n",
    "        \"rating_numeric\",\n",
    "        when(\n",
    "            col(\"rating\") != \"N/A\",\n",
    "            col(\"rating\").cast(\"float\")\n",
    "        ).otherwise(None)\n",
    "    ) \\\n",
    "    .withColumn(\n",
    "        \"reviews_numeric\",\n",
    "        when(\n",
    "            regexp_extract(col(\"reviews\"), \"^[0-9,]+$\", 0) != \"\",\n",
    "            regexp_replace(col(\"reviews\"), \"[,]\", \"\").cast(\"int\")\n",
    "        ).otherwise(None)\n",
    "    ) \\\n",
    "    .withColumn(\n",
    "        \"author_clean\",\n",
    "        regexp_replace(\n",
    "            regexp_replace(col(\"author\"), \"by \", \"\"),\n",
    "            \"\\\\n.*\", \"\"\n",
    "        )\n",
    "    ) \\\n",
    "    .filter(col(\"title\") != \"Unknown Title\")\n",
    "\n",
    "books_cleaned = books_cleaned \\\n",
    "    .withColumn(\n",
    "        \"popularity_score\",\n",
    "        col(\"reviews_numeric\") * col(\"rating_numeric\")\n",
    "    ) \\\n",
    "    .withColumn(\n",
    "        \"price_category\",\n",
    "        when(col(\"price_numeric\").isNull(), \"Price Not Available\")\n",
    "        .when(col(\"price_numeric\") < 10, \"Budget ($0-$10)\")\n",
    "        .when(col(\"price_numeric\") < 15, \"Mid-range ($10-$15)\")\n",
    "        .when(col(\"price_numeric\") < 20, \"Premium ($15-$20)\")\n",
    "        .otherwise(\"Luxury ($20+)\")\n",
    "    )\n",
    "\n",
    "print(f\"Cleaned data: {books_cleaned.count()} books\")\n",
    "display(books_cleaned)"
   ]
  },
  {
   "cell_type": "markdown",
   "metadata": {
    "application/vnd.databricks.v1+cell": {
     "cellMetadata": {},
     "inputWidgets": {},
     "nuid": "ba02f842-66bb-4d6b-a313-be1ace6453c8",
     "showTitle": false,
     "tableResultSettingsMap": {},
     "title": ""
    }
   },
   "source": [
    "Analysis - Top Authors"
   ]
  },
  {
   "cell_type": "code",
   "execution_count": 0,
   "metadata": {
    "application/vnd.databricks.v1+cell": {
     "cellMetadata": {
      "byteLimit": 2048000,
      "rowLimit": 10000
     },
     "inputWidgets": {},
     "nuid": "c9738c9d-53e0-44c8-9bcd-4df0d99f1f9b",
     "showTitle": false,
     "tableResultSettingsMap": {},
     "title": ""
    }
   },
   "outputs": [
    {
     "output_type": "stream",
     "name": "stdout",
     "output_type": "stream",
     "text": [
      " Authors with multiple bestsellers:\n"
     ]
    },
    {
     "output_type": "display_data",
     "data": {
      "text/html": [
       "<style scoped>\n",
       "  .table-result-container {\n",
       "    max-height: 300px;\n",
       "    overflow: auto;\n",
       "  }\n",
       "  table, th, td {\n",
       "    border: 1px solid black;\n",
       "    border-collapse: collapse;\n",
       "  }\n",
       "  th, td {\n",
       "    padding: 5px;\n",
       "  }\n",
       "  th {\n",
       "    text-align: left;\n",
       "  }\n",
       "</style><div class='table-result-container'><table class='table-result'><thead style='background-color: white'><tr><th>author_clean</th><th>books_in_top_100</th><th>avg_rating</th><th>total_reviews</th><th>avg_price</th></tr></thead><tbody><tr><td>Coco Wyo</td><td>2</td><td>4.800000190734863</td><td>11479</td><td>null</td></tr><tr><td>Freida McFadden</td><td>1</td><td>4.5</td><td>561005</td><td>null</td></tr><tr><td>Colleen Hoover</td><td>1</td><td>4.5</td><td>223993</td><td>null</td></tr><tr><td>Andy Weir</td><td>1</td><td>4.699999809265137</td><td>171663</td><td>null</td></tr><tr><td>James Clear</td><td>1</td><td>4.800000190734863</td><td>134675</td><td>null</td></tr><tr><td>Charlie Mackesy</td><td>1</td><td>4.800000190734863</td><td>126302</td><td>null</td></tr><tr><td>Don Miguel Ruiz</td><td>1</td><td>4.699999809265137</td><td>118560</td><td>null</td></tr><tr><td>Viktor E. Frankl</td><td>1</td><td>4.699999809265137</td><td>94944</td><td>null</td></tr><tr><td>George Orwell</td><td>1</td><td>4.599999904632568</td><td>90335</td><td>null</td></tr><tr><td>Ariel Lawhon</td><td>1</td><td>4.599999904632568</td><td>89771</td><td>null</td></tr></tbody></table></div>"
      ]
     },
     "metadata": {
      "application/vnd.databricks.v1+output": {
       "addedWidgets": {},
       "aggData": [],
       "aggError": "",
       "aggOverflow": false,
       "aggSchema": [],
       "aggSeriesLimitReached": false,
       "aggType": "",
       "arguments": {},
       "columnCustomDisplayInfos": {},
       "data": [
        [
         "Coco Wyo",
         2,
         4.800000190734863,
         11479,
         null
        ],
        [
         "Freida McFadden",
         1,
         4.5,
         561005,
         null
        ],
        [
         "Colleen Hoover",
         1,
         4.5,
         223993,
         null
        ],
        [
         "Andy Weir",
         1,
         4.699999809265137,
         171663,
         null
        ],
        [
         "James Clear",
         1,
         4.800000190734863,
         134675,
         null
        ],
        [
         "Charlie Mackesy",
         1,
         4.800000190734863,
         126302,
         null
        ],
        [
         "Don Miguel Ruiz",
         1,
         4.699999809265137,
         118560,
         null
        ],
        [
         "Viktor E. Frankl",
         1,
         4.699999809265137,
         94944,
         null
        ],
        [
         "George Orwell",
         1,
         4.599999904632568,
         90335,
         null
        ],
        [
         "Ariel Lawhon",
         1,
         4.599999904632568,
         89771,
         null
        ]
       ],
       "datasetInfos": [],
       "dbfsResultPath": null,
       "isJsonSchema": true,
       "metadata": {},
       "overflow": false,
       "plotOptions": {
        "customPlotOptions": {},
        "displayType": "table",
        "pivotAggregation": null,
        "pivotColumns": null,
        "xColumns": null,
        "yColumns": null
       },
       "removedWidgets": [],
       "schema": [
        {
         "metadata": "{}",
         "name": "author_clean",
         "type": "\"string\""
        },
        {
         "metadata": "{}",
         "name": "books_in_top_100",
         "type": "\"long\""
        },
        {
         "metadata": "{}",
         "name": "avg_rating",
         "type": "\"double\""
        },
        {
         "metadata": "{}",
         "name": "total_reviews",
         "type": "\"long\""
        },
        {
         "metadata": "{}",
         "name": "avg_price",
         "type": "\"double\""
        }
       ],
       "type": "table"
      }
     },
     "output_type": "display_data"
    }
   ],
   "source": [
    "top_authors = books_cleaned \\\n",
    "    .filter(col(\"author_clean\") != \"Unknown Author\") \\\n",
    "    .groupBy(\"author_clean\") \\\n",
    "    .agg(\n",
    "        count(\"*\").alias(\"books_in_top_100\"),\n",
    "        avg(\"rating_numeric\").alias(\"avg_rating\"),\n",
    "        sum(\"reviews_numeric\").alias(\"total_reviews\"),\n",
    "        avg(\"price_numeric\").alias(\"avg_price\")\n",
    "    ) \\\n",
    "    .orderBy(desc(\"books_in_top_100\"), desc(\"total_reviews\"))\n",
    "\n",
    "print(\" Authors with multiple bestsellers:\")\n",
    "display(top_authors.limit(10))"
   ]
  },
  {
   "cell_type": "markdown",
   "metadata": {
    "application/vnd.databricks.v1+cell": {
     "cellMetadata": {},
     "inputWidgets": {},
     "nuid": "454a1b5c-d914-4c6e-ab9a-e1aef54f3901",
     "showTitle": false,
     "tableResultSettingsMap": {},
     "title": ""
    }
   },
   "source": [
    "Analysis - Price Distribution"
   ]
  },
  {
   "cell_type": "code",
   "execution_count": 0,
   "metadata": {
    "application/vnd.databricks.v1+cell": {
     "cellMetadata": {
      "byteLimit": 2048000,
      "rowLimit": 10000
     },
     "inputWidgets": {},
     "nuid": "f596130b-215c-486a-a020-e054cbf05430",
     "showTitle": false,
     "tableResultSettingsMap": {},
     "title": ""
    }
   },
   "outputs": [
    {
     "output_type": "stream",
     "name": "stdout",
     "output_type": "stream",
     "text": [
      " Price statistics:\n"
     ]
    },
    {
     "output_type": "display_data",
     "data": {
      "text/html": [
       "<style scoped>\n",
       "  .table-result-container {\n",
       "    max-height: 300px;\n",
       "    overflow: auto;\n",
       "  }\n",
       "  table, th, td {\n",
       "    border: 1px solid black;\n",
       "    border-collapse: collapse;\n",
       "  }\n",
       "  th, td {\n",
       "    padding: 5px;\n",
       "  }\n",
       "  th {\n",
       "    text-align: left;\n",
       "  }\n",
       "</style><div class='table-result-container'><table class='table-result'><thead style='background-color: white'><tr><th>avg_price</th><th>min_price</th><th>max_price</th><th>price_stddev</th><th>books_with_price</th></tr></thead><tbody><tr><td>null</td><td>null</td><td>null</td><td>null</td><td>0</td></tr></tbody></table></div>"
      ]
     },
     "metadata": {
      "application/vnd.databricks.v1+output": {
       "addedWidgets": {},
       "aggData": [],
       "aggError": "",
       "aggOverflow": false,
       "aggSchema": [],
       "aggSeriesLimitReached": false,
       "aggType": "",
       "arguments": {},
       "columnCustomDisplayInfos": {},
       "data": [
        [
         null,
         null,
         null,
         null,
         0
        ]
       ],
       "datasetInfos": [],
       "dbfsResultPath": null,
       "isJsonSchema": true,
       "metadata": {},
       "overflow": false,
       "plotOptions": {
        "customPlotOptions": {},
        "displayType": "table",
        "pivotAggregation": null,
        "pivotColumns": null,
        "xColumns": null,
        "yColumns": null
       },
       "removedWidgets": [],
       "schema": [
        {
         "metadata": "{}",
         "name": "avg_price",
         "type": "\"double\""
        },
        {
         "metadata": "{}",
         "name": "min_price",
         "type": "\"float\""
        },
        {
         "metadata": "{}",
         "name": "max_price",
         "type": "\"float\""
        },
        {
         "metadata": "{}",
         "name": "price_stddev",
         "type": "\"double\""
        },
        {
         "metadata": "{}",
         "name": "books_with_price",
         "type": "\"long\""
        }
       ],
       "type": "table"
      }
     },
     "output_type": "display_data"
    },
    {
     "output_type": "display_data",
     "data": {
      "text/html": [
       "<style scoped>\n",
       "  .table-result-container {\n",
       "    max-height: 300px;\n",
       "    overflow: auto;\n",
       "  }\n",
       "  table, th, td {\n",
       "    border: 1px solid black;\n",
       "    border-collapse: collapse;\n",
       "  }\n",
       "  th, td {\n",
       "    padding: 5px;\n",
       "  }\n",
       "  th {\n",
       "    text-align: left;\n",
       "  }\n",
       "</style><div class='table-result-container'><table class='table-result'><thead style='background-color: white'><tr><th>price_category</th><th>book_count</th></tr></thead><tbody><tr><td>Price Not Available</td><td>60</td></tr></tbody></table></div>"
      ]
     },
     "metadata": {
      "application/vnd.databricks.v1+output": {
       "addedWidgets": {},
       "aggData": [],
       "aggError": "",
       "aggOverflow": false,
       "aggSchema": [],
       "aggSeriesLimitReached": false,
       "aggType": "",
       "arguments": {},
       "columnCustomDisplayInfos": {},
       "data": [
        [
         "Price Not Available",
         60
        ]
       ],
       "datasetInfos": [],
       "dbfsResultPath": null,
       "isJsonSchema": true,
       "metadata": {},
       "overflow": false,
       "plotOptions": {
        "customPlotOptions": {},
        "displayType": "table",
        "pivotAggregation": null,
        "pivotColumns": null,
        "xColumns": null,
        "yColumns": null
       },
       "removedWidgets": [],
       "schema": [
        {
         "metadata": "{}",
         "name": "price_category",
         "type": "\"string\""
        },
        {
         "metadata": "{}",
         "name": "book_count",
         "type": "\"long\""
        }
       ],
       "type": "table"
      }
     },
     "output_type": "display_data"
    }
   ],
   "source": [
    "price_stats = books_cleaned.filter(col(\"price_numeric\").isNotNull()).select(\n",
    "    round(avg(\"price_numeric\"), 2).alias(\"avg_price\"),\n",
    "    round(min(\"price_numeric\"), 2).alias(\"min_price\"),\n",
    "    round(max(\"price_numeric\"), 2).alias(\"max_price\"),\n",
    "    round(stddev(\"price_numeric\"), 2).alias(\"price_stddev\"),\n",
    "    count(\"*\").alias(\"books_with_price\")\n",
    ")\n",
    "\n",
    "print(\" Price statistics:\")\n",
    "display(price_stats)\n",
    "\n",
    "# Price by category\n",
    "price_by_category = books_cleaned \\\n",
    "    .groupBy(\"price_category\") \\\n",
    "    .agg(count(\"*\").alias(\"book_count\")) \\\n",
    "    .orderBy(\"book_count\", ascending=False)\n",
    "\n",
    "display(price_by_category)"
   ]
  },
  {
   "cell_type": "markdown",
   "metadata": {
    "application/vnd.databricks.v1+cell": {
     "cellMetadata": {},
     "inputWidgets": {},
     "nuid": "1a49f3ec-d4b3-4f3e-9bef-8466d2fe663c",
     "showTitle": false,
     "tableResultSettingsMap": {},
     "title": ""
    }
   },
   "source": [
    "Book Format Analysis"
   ]
  },
  {
   "cell_type": "code",
   "execution_count": 0,
   "metadata": {
    "application/vnd.databricks.v1+cell": {
     "cellMetadata": {
      "byteLimit": 2048000,
      "rowLimit": 10000
     },
     "inputWidgets": {},
     "nuid": "af7790fa-06b8-4c75-9aac-3e5c76567511",
     "showTitle": false,
     "tableResultSettingsMap": {},
     "title": ""
    }
   },
   "outputs": [
    {
     "output_type": "stream",
     "name": "stdout",
     "output_type": "stream",
     "text": [
      " Format breakdown:\n"
     ]
    },
    {
     "output_type": "display_data",
     "data": {
      "text/html": [
       "<style scoped>\n",
       "  .table-result-container {\n",
       "    max-height: 300px;\n",
       "    overflow: auto;\n",
       "  }\n",
       "  table, th, td {\n",
       "    border: 1px solid black;\n",
       "    border-collapse: collapse;\n",
       "  }\n",
       "  th, td {\n",
       "    padding: 5px;\n",
       "  }\n",
       "  th {\n",
       "    text-align: left;\n",
       "  }\n",
       "</style><div class='table-result-container'><table class='table-result'><thead style='background-color: white'><tr><th>format</th><th>count</th><th>avg_price</th><th>avg_rating</th></tr></thead><tbody><tr><td>Unknown</td><td>60</td><td>null</td><td>4.675438638319049</td></tr></tbody></table></div>"
      ]
     },
     "metadata": {
      "application/vnd.databricks.v1+output": {
       "addedWidgets": {},
       "aggData": [],
       "aggError": "",
       "aggOverflow": false,
       "aggSchema": [],
       "aggSeriesLimitReached": false,
       "aggType": "",
       "arguments": {},
       "columnCustomDisplayInfos": {},
       "data": [
        [
         "Unknown",
         60,
         null,
         4.675438638319049
        ]
       ],
       "datasetInfos": [],
       "dbfsResultPath": null,
       "isJsonSchema": true,
       "metadata": {},
       "overflow": false,
       "plotOptions": {
        "customPlotOptions": {},
        "displayType": "table",
        "pivotAggregation": null,
        "pivotColumns": null,
        "xColumns": null,
        "yColumns": null
       },
       "removedWidgets": [],
       "schema": [
        {
         "metadata": "{}",
         "name": "format",
         "type": "\"string\""
        },
        {
         "metadata": "{}",
         "name": "count",
         "type": "\"long\""
        },
        {
         "metadata": "{}",
         "name": "avg_price",
         "type": "\"double\""
        },
        {
         "metadata": "{}",
         "name": "avg_rating",
         "type": "\"double\""
        }
       ],
       "type": "table"
      }
     },
     "output_type": "display_data"
    }
   ],
   "source": [
    "format_analysis = books_cleaned \\\n",
    "    .groupBy(\"format\") \\\n",
    "    .agg(\n",
    "        count(\"*\").alias(\"count\"),\n",
    "        avg(\"price_numeric\").alias(\"avg_price\"),\n",
    "        avg(\"rating_numeric\").alias(\"avg_rating\")\n",
    "    ) \\\n",
    "    .orderBy(desc(\"count\"))\n",
    "\n",
    "print(\" Format breakdown:\")\n",
    "display(format_analysis)"
   ]
  },
  {
   "cell_type": "markdown",
   "metadata": {
    "application/vnd.databricks.v1+cell": {
     "cellMetadata": {},
     "inputWidgets": {},
     "nuid": "397a4a7b-d0d2-42dd-8d6e-9702d018fbd1",
     "showTitle": false,
     "tableResultSettingsMap": {},
     "title": ""
    }
   },
   "source": [
    "Rating and Review Analysis"
   ]
  },
  {
   "cell_type": "code",
   "execution_count": 0,
   "metadata": {
    "application/vnd.databricks.v1+cell": {
     "cellMetadata": {
      "byteLimit": 2048000,
      "rowLimit": 10000
     },
     "inputWidgets": {},
     "nuid": "2abd6596-e00e-4d44-ae37-4e2671ba8b4a",
     "showTitle": false,
     "tableResultSettingsMap": {},
     "title": ""
    }
   },
   "outputs": [
    {
     "output_type": "stream",
     "name": "stdout",
     "output_type": "stream",
     "text": [
      " How ratings correlate with engagement:\n"
     ]
    },
    {
     "output_type": "display_data",
     "data": {
      "text/html": [
       "<style scoped>\n",
       "  .table-result-container {\n",
       "    max-height: 300px;\n",
       "    overflow: auto;\n",
       "  }\n",
       "  table, th, td {\n",
       "    border: 1px solid black;\n",
       "    border-collapse: collapse;\n",
       "  }\n",
       "  th, td {\n",
       "    padding: 5px;\n",
       "  }\n",
       "  th {\n",
       "    text-align: left;\n",
       "  }\n",
       "</style><div class='table-result-container'><table class='table-result'><thead style='background-color: white'><tr><th>rating_tier</th><th>book_count</th><th>avg_reviews</th><th>avg_price</th><th>avg_popularity</th></tr></thead><tbody><tr><td> Great (4.5-4.7)</td><td>22</td><td>72510.0</td><td>null</td><td>332049.0</td></tr><tr><td> Excellent (4.7+)</td><td>28</td><td>30979.0</td><td>null</td><td>149855.0</td></tr><tr><td> Good (4.0-4.5)</td><td>6</td><td>2896.0</td><td>null</td><td>12739.0</td></tr><tr><td> Average (3.5-4.0)</td><td>1</td><td>215.0</td><td>null</td><td>774.0</td></tr></tbody></table></div>"
      ]
     },
     "metadata": {
      "application/vnd.databricks.v1+output": {
       "addedWidgets": {},
       "aggData": [],
       "aggError": "",
       "aggOverflow": false,
       "aggSchema": [],
       "aggSeriesLimitReached": false,
       "aggType": "",
       "arguments": {},
       "columnCustomDisplayInfos": {},
       "data": [
        [
         " Great (4.5-4.7)",
         22,
         72510.0,
         null,
         332049.0
        ],
        [
         " Excellent (4.7+)",
         28,
         30979.0,
         null,
         149855.0
        ],
        [
         " Good (4.0-4.5)",
         6,
         2896.0,
         null,
         12739.0
        ],
        [
         " Average (3.5-4.0)",
         1,
         215.0,
         null,
         774.0
        ]
       ],
       "datasetInfos": [],
       "dbfsResultPath": null,
       "isJsonSchema": true,
       "metadata": {},
       "overflow": false,
       "plotOptions": {
        "customPlotOptions": {},
        "displayType": "table",
        "pivotAggregation": null,
        "pivotColumns": null,
        "xColumns": null,
        "yColumns": null
       },
       "removedWidgets": [],
       "schema": [
        {
         "metadata": "{}",
         "name": "rating_tier",
         "type": "\"string\""
        },
        {
         "metadata": "{}",
         "name": "book_count",
         "type": "\"long\""
        },
        {
         "metadata": "{}",
         "name": "avg_reviews",
         "type": "\"double\""
        },
        {
         "metadata": "{}",
         "name": "avg_price",
         "type": "\"double\""
        },
        {
         "metadata": "{}",
         "name": "avg_popularity",
         "type": "\"double\""
        }
       ],
       "type": "table"
      }
     },
     "output_type": "display_data"
    }
   ],
   "source": [
    "books_cleaned.createOrReplaceTempView(\"books\")\n",
    "\n",
    "correlation_query = \"\"\"\n",
    "SELECT \n",
    "    CASE \n",
    "        WHEN rating_numeric >= 4.7 THEN ' Excellent (4.7+)'\n",
    "        WHEN rating_numeric >= 4.5 THEN ' Great (4.5-4.7)'\n",
    "        WHEN rating_numeric >= 4.0 THEN ' Good (4.0-4.5)'\n",
    "        WHEN rating_numeric >= 3.5 THEN ' Average (3.5-4.0)'\n",
    "        ELSE ' Below Average (<3.5)'\n",
    "    END as rating_tier,\n",
    "    COUNT(*) as book_count,\n",
    "    ROUND(AVG(reviews_numeric), 0) as avg_reviews,\n",
    "    ROUND(AVG(price_numeric), 2) as avg_price,\n",
    "    ROUND(AVG(popularity_score), 0) as avg_popularity\n",
    "FROM books\n",
    "WHERE rating_numeric IS NOT NULL\n",
    "GROUP BY rating_tier\n",
    "ORDER BY avg_reviews DESC\n",
    "\"\"\"\n",
    "\n",
    "rating_analysis = spark.sql(correlation_query)\n",
    "print(\" How ratings correlate with engagement:\")\n",
    "display(rating_analysis)"
   ]
  },
  {
   "cell_type": "markdown",
   "metadata": {
    "application/vnd.databricks.v1+cell": {
     "cellMetadata": {},
     "inputWidgets": {},
     "nuid": "6d80c7b7-4fdb-4cb9-a8cc-551562ab6d75",
     "showTitle": false,
     "tableResultSettingsMap": {},
     "title": ""
    }
   },
   "source": [
    "Top Performers"
   ]
  },
  {
   "cell_type": "code",
   "execution_count": 0,
   "metadata": {
    "application/vnd.databricks.v1+cell": {
     "cellMetadata": {
      "byteLimit": 2048000,
      "rowLimit": 10000
     },
     "inputWidgets": {},
     "nuid": "650c9898-5312-4b03-bd75-78d542b88654",
     "showTitle": false,
     "tableResultSettingsMap": {},
     "title": ""
    }
   },
   "outputs": [
    {
     "output_type": "stream",
     "name": "stdout",
     "output_type": "stream",
     "text": [
      " Top performing books (ratings  reviews):\n"
     ]
    },
    {
     "output_type": "display_data",
     "data": {
      "text/html": [
       "<style scoped>\n",
       "  .table-result-container {\n",
       "    max-height: 300px;\n",
       "    overflow: auto;\n",
       "  }\n",
       "  table, th, td {\n",
       "    border: 1px solid black;\n",
       "    border-collapse: collapse;\n",
       "  }\n",
       "  th, td {\n",
       "    padding: 5px;\n",
       "  }\n",
       "  th {\n",
       "    text-align: left;\n",
       "  }\n",
       "</style><div class='table-result-container'><table class='table-result'><thead style='background-color: white'><tr><th>rank</th><th>title</th><th>author_clean</th><th>rating_numeric</th><th>reviews_numeric</th><th>price_numeric</th><th>popularity_score</th></tr></thead><tbody><tr><td>23</td><td>The Housemaid</td><td>Freida McFadden</td><td>4.5</td><td>561005</td><td>null</td><td>2524522.5</td></tr><tr><td>17</td><td>Regretting You</td><td>Colleen Hoover</td><td>4.5</td><td>223993</td><td>null</td><td>1007968.5</td></tr><tr><td>62</td><td>Project Hail Mary: A Novel</td><td>Andy Weir</td><td>4.7</td><td>171663</td><td>null</td><td>806816.0672578812</td></tr><tr><td>22</td><td>Atomic Habits: An Easy & Proven Way to Build Good Habits & Break Bad Ones</td><td>James Clear</td><td>4.8</td><td>134675</td><td>null</td><td>646440.0256872177</td></tr><tr><td>6</td><td>The Boy, the Mole, the Fox and the Horse: Inspiring Conversations on Hope, Love and Personal Growth</td><td>Charlie Mackesy</td><td>4.8</td><td>126302</td><td>null</td><td>606249.6240901947</td></tr><tr><td>80</td><td>The Four Agreements: A Practical Guide to Personal Freedom</td><td>Don Miguel Ruiz</td><td>4.7</td><td>118560</td><td>null</td><td>557231.9773864746</td></tr><tr><td>78</td><td>Man's Search for Meaning</td><td>Viktor E. Frankl</td><td>4.7</td><td>94944</td><td>null</td><td>446236.78189086914</td></tr><tr><td>12</td><td>My First Learn-to-Write Workbook: Practice for Kids with Pen Control, Line Tracing, Letters, and More!</td><td>Crystal Radke</td><td>4.8</td><td>87980</td><td>null</td><td>422304.0167808533</td></tr><tr><td>28</td><td>Animal Farm: 75th Anniversary Edition</td><td>George Orwell</td><td>4.6</td><td>90335</td><td>null</td><td>415540.99138498306</td></tr><tr><td>64</td><td>The Frozen River: A GMA Book Club Pick: A Novel</td><td>Ariel Lawhon</td><td>4.6</td><td>89771</td><td>null</td><td>412946.5914387703</td></tr><tr><td>51</td><td>My First Library: Boxset of 10 Board Books for Kids</td><td>Wonder House Books</td><td>4.6</td><td>86173</td><td>null</td><td>396395.7917819023</td></tr><tr><td>53</td><td>The Body Keeps the Score: Brain, Mind, and Body in the Healing of Trauma</td><td>Bessel van der Kolk M.D.</td><td>4.8</td><td>81284</td><td>null</td><td>390163.2155036926</td></tr><tr><td>9</td><td>I Love You to the Moon and Back</td><td>Amelia Hepworth</td><td>4.9</td><td>79052</td><td>null</td><td>387354.8075389862</td></tr><tr><td>20</td><td>The Very Hungry Caterpillar</td><td>Eric Carle</td><td>4.9</td><td>77700</td><td>null</td><td>380730.00741004944</td></tr><tr><td>27</td><td>The Psychology of Money: Timeless lessons on wealth, greed, and happiness</td><td>Morgan Housel</td><td>4.7</td><td>65714</td><td>null</td><td>308855.7874660492</td></tr></tbody></table></div>"
      ]
     },
     "metadata": {
      "application/vnd.databricks.v1+output": {
       "addedWidgets": {},
       "aggData": [],
       "aggError": "",
       "aggOverflow": false,
       "aggSchema": [],
       "aggSeriesLimitReached": false,
       "aggType": "",
       "arguments": {},
       "columnCustomDisplayInfos": {},
       "data": [
        [
         23,
         "The Housemaid",
         "Freida McFadden",
         4.5,
         561005,
         null,
         2524522.5
        ],
        [
         17,
         "Regretting You",
         "Colleen Hoover",
         4.5,
         223993,
         null,
         1007968.5
        ],
        [
         62,
         "Project Hail Mary: A Novel",
         "Andy Weir",
         4.7,
         171663,
         null,
         806816.0672578812
        ],
        [
         22,
         "Atomic Habits: An Easy & Proven Way to Build Good Habits & Break Bad Ones",
         "James Clear",
         4.8,
         134675,
         null,
         646440.0256872177
        ],
        [
         6,
         "The Boy, the Mole, the Fox and the Horse: Inspiring Conversations on Hope, Love and Personal Growth",
         "Charlie Mackesy",
         4.8,
         126302,
         null,
         606249.6240901947
        ],
        [
         80,
         "The Four Agreements: A Practical Guide to Personal Freedom",
         "Don Miguel Ruiz",
         4.7,
         118560,
         null,
         557231.9773864746
        ],
        [
         78,
         "Man's Search for Meaning",
         "Viktor E. Frankl",
         4.7,
         94944,
         null,
         446236.78189086914
        ],
        [
         12,
         "My First Learn-to-Write Workbook: Practice for Kids with Pen Control, Line Tracing, Letters, and More!",
         "Crystal Radke",
         4.8,
         87980,
         null,
         422304.0167808533
        ],
        [
         28,
         "Animal Farm: 75th Anniversary Edition",
         "George Orwell",
         4.6,
         90335,
         null,
         415540.99138498306
        ],
        [
         64,
         "The Frozen River: A GMA Book Club Pick: A Novel",
         "Ariel Lawhon",
         4.6,
         89771,
         null,
         412946.5914387703
        ],
        [
         51,
         "My First Library: Boxset of 10 Board Books for Kids",
         "Wonder House Books",
         4.6,
         86173,
         null,
         396395.7917819023
        ],
        [
         53,
         "The Body Keeps the Score: Brain, Mind, and Body in the Healing of Trauma",
         "Bessel van der Kolk M.D.",
         4.8,
         81284,
         null,
         390163.2155036926
        ],
        [
         9,
         "I Love You to the Moon and Back",
         "Amelia Hepworth",
         4.9,
         79052,
         null,
         387354.8075389862
        ],
        [
         20,
         "The Very Hungry Caterpillar",
         "Eric Carle",
         4.9,
         77700,
         null,
         380730.00741004944
        ],
        [
         27,
         "The Psychology of Money: Timeless lessons on wealth, greed, and happiness",
         "Morgan Housel",
         4.7,
         65714,
         null,
         308855.7874660492
        ]
       ],
       "datasetInfos": [],
       "dbfsResultPath": null,
       "isJsonSchema": true,
       "metadata": {},
       "overflow": false,
       "plotOptions": {
        "customPlotOptions": {},
        "displayType": "table",
        "pivotAggregation": null,
        "pivotColumns": null,
        "xColumns": null,
        "yColumns": null
       },
       "removedWidgets": [],
       "schema": [
        {
         "metadata": "{}",
         "name": "rank",
         "type": "\"integer\""
        },
        {
         "metadata": "{}",
         "name": "title",
         "type": "\"string\""
        },
        {
         "metadata": "{}",
         "name": "author_clean",
         "type": "\"string\""
        },
        {
         "metadata": "{}",
         "name": "rating_numeric",
         "type": "\"float\""
        },
        {
         "metadata": "{}",
         "name": "reviews_numeric",
         "type": "\"integer\""
        },
        {
         "metadata": "{}",
         "name": "price_numeric",
         "type": "\"float\""
        },
        {
         "metadata": "{}",
         "name": "popularity_score",
         "type": "\"double\""
        }
       ],
       "type": "table"
      }
     },
     "output_type": "display_data"
    }
   ],
   "source": [
    "top_performers = books_cleaned \\\n",
    "    .filter((col(\"rating_numeric\").isNotNull()) & (col(\"reviews_numeric\") > 100)) \\\n",
    "    .select(\"rank\", \"title\", \"author_clean\", \"rating_numeric\", \"reviews_numeric\", \n",
    "            \"price_numeric\", \"popularity_score\") \\\n",
    "    .orderBy(desc(\"popularity_score\"))\n",
    "\n",
    "print(\" Top performing books (ratings  reviews):\")\n",
    "display(top_performers.limit(15))"
   ]
  },
  {
   "cell_type": "markdown",
   "metadata": {
    "application/vnd.databricks.v1+cell": {
     "cellMetadata": {},
     "inputWidgets": {},
     "nuid": "ca3b272b-3d6a-4f87-954a-3bdcf52add5b",
     "showTitle": false,
     "tableResultSettingsMap": {},
     "title": ""
    }
   },
   "source": [
    "Visualizations"
   ]
  },
  {
   "cell_type": "code",
   "execution_count": 0,
   "metadata": {
    "application/vnd.databricks.v1+cell": {
     "cellMetadata": {
      "byteLimit": 2048000,
      "rowLimit": 10000
     },
     "inputWidgets": {},
     "nuid": "cc1417c7-c93c-458c-a14f-12aadc86adf2",
     "showTitle": false,
     "tableResultSettingsMap": {},
     "title": ""
    }
   },
   "outputs": [
    {
     "output_type": "display_data",
     "data": {
      "image/png": "[encoded data removed]",
      "text/plain": [
       "<Figure size 1600x1200 with 4 Axes>"
      ]
     },
     "metadata": {},
     "output_type": "display_data"
    }
   ],
   "source": [
    "import matplotlib.pyplot as plt\n",
    "import seaborn as sns\n",
    "\n",
    "books_pd = books_cleaned \\\n",
    "    .filter((col(\"price_numeric\").isNotNull()) & (col(\"rating_numeric\").isNotNull())) \\\n",
    "    .select(\"title\", \"price_numeric\", \"rating_numeric\", \"reviews_numeric\", \"popularity_score\") \\\n",
    "    .toPandas()\n",
    "\n",
    "fig, axes = plt.subplots(2, 2, figsize=(16, 12))\n",
    "\n",
    "# 1. Price vs Rating\n",
    "axes[0, 0].scatter(books_pd['price_numeric'], books_pd['rating_numeric'], \n",
    "                   alpha=0.6, s=100, c='steelblue', edgecolors='black', linewidth=0.5)\n",
    "axes[0, 0].set_xlabel('Price ($)', fontsize=12)\n",
    "axes[0, 0].set_ylabel('Rating', fontsize=12)\n",
    "axes[0, 0].set_title('Do Expensive Books Get Better Ratings?', fontsize=14, fontweight='bold')\n",
    "axes[0, 0].grid(True, alpha=0.3)\n",
    "\n",
    "# 2. Reviews Distribution\n",
    "axes[0, 1].hist(books_pd['reviews_numeric'], bins=25, edgecolor='black', color='coral')\n",
    "axes[0, 1].set_xlabel('Number of Reviews', fontsize=12)\n",
    "axes[0, 1].set_ylabel('Frequency', fontsize=12)\n",
    "axes[0, 1].set_title('Review Count Distribution', fontsize=14, fontweight='bold')\n",
    "axes[0, 1].grid(True, alpha=0.3)\n",
    "\n",
    "# 3. Price Distribution\n",
    "axes[1, 0].hist(books_pd['price_numeric'], bins=20, edgecolor='black', color='lightgreen')\n",
    "axes[1, 0].set_xlabel('Price ($)', fontsize=12)\n",
    "axes[1, 0].set_ylabel('Frequency', fontsize=12)\n",
    "axes[1, 0].set_title('Price Distribution of Bestsellers', fontsize=14, fontweight='bold')\n",
    "axes[1, 0].grid(True, alpha=0.3)\n",
    "\n",
    "# 4. Popularity Score\n",
    "top_15 = books_pd.nlargest(15, 'popularity_score')\n",
    "axes[1, 1].barh(range(len(top_15)), top_15['popularity_score'], color='mediumpurple')\n",
    "axes[1, 1].set_yticks(range(len(top_15)))\n",
    "axes[1, 1].set_yticklabels([title[:30] + '...' if len(title) > 30 else title \n",
    "                             for title in top_15['title']], fontsize=9)\n",
    "axes[1, 1].set_xlabel('Popularity Score', fontsize=12)\n",
    "axes[1, 1].set_title('Top 15 Most Popular Books', fontsize=14, fontweight='bold')\n",
    "axes[1, 1].grid(True, alpha=0.3, axis='x')\n",
    "\n",
    "plt.tight_layout()\n",
    "display(plt.show())\n"
   ]
  },
  {
   "cell_type": "markdown",
   "metadata": {
    "application/vnd.databricks.v1+cell": {
     "cellMetadata": {},
     "inputWidgets": {},
     "nuid": "e3a0bb43-736a-4286-b2d9-d58374199cc4",
     "showTitle": false,
     "tableResultSettingsMap": {},
     "title": ""
    }
   },
   "source": [
    "Dashboard Summary"
   ]
  },
  {
   "cell_type": "code",
   "execution_count": 0,
   "metadata": {
    "application/vnd.databricks.v1+cell": {
     "cellMetadata": {
      "byteLimit": 2048000,
      "rowLimit": 10000
     },
     "inputWidgets": {},
     "nuid": "04df245c-bc30-4ba7-9e4d-c3506e623c06",
     "showTitle": false,
     "tableResultSettingsMap": {},
     "title": ""
    }
   },
   "outputs": [
    {
     "output_type": "stream",
     "name": "stdout",
     "output_type": "stream",
     "text": [
      "\n==================================================\n LIVE AMAZON BESTSELLERS SNAPSHOT\n==================================================\nTotal Books Analyzed: 60\nAverage Price: $None\nAverage Rating: 4.68 \nTotal Reviews Counted: 2,449,243\nAverage Popularity Score: 204,078\nScraped: 2025-10-16 at 19:56:53\n==================================================\n"
     ]
    }
   ],
   "source": [
    "summary_stats = books_cleaned.agg(\n",
    "    count(\"*\").alias(\"total_books\"),\n",
    "    round(avg(\"price_numeric\"), 2).alias(\"avg_price\"),\n",
    "    round(avg(\"rating_numeric\"), 2).alias(\"avg_rating\"),\n",
    "    sum(\"reviews_numeric\").alias(\"total_reviews\"),\n",
    "    round(avg(\"popularity_score\"), 0).alias(\"avg_popularity\")\n",
    ").collect()[0]\n",
    "\n",
    "print(\"\\n\" + \"=\"*50)\n",
    "print(\" LIVE AMAZON BESTSELLERS SNAPSHOT\")\n",
    "print(\"=\"*50)\n",
    "print(f\"Total Books Analyzed: {summary_stats['total_books']}\")\n",
    "print(f\"Average Price: ${summary_stats['avg_price']}\")\n",
    "print(f\"Average Rating: {summary_stats['avg_rating']} \")\n",
    "print(f\"Total Reviews Counted: {summary_stats['total_reviews']:,}\")\n",
    "print(f\"Average Popularity Score: {summary_stats['avg_popularity']:,.0f}\")\n",
    "print(f\"Scraped: {datetime.now().strftime('%Y-%m-%d at %H:%M:%S')}\")\n",
    "print(\"=\"*50)"
   ]
  },
  {
   "cell_type": "code",
   "execution_count": 0,
   "metadata": {
    "application/vnd.databricks.v1+cell": {
     "cellMetadata": {
      "byteLimit": 2048000,
      "rowLimit": 10000
     },
     "inputWidgets": {},
     "nuid": "90764dd6-edc9-420d-a9f5-ef7f82d93580",
     "showTitle": false,
     "tableResultSettingsMap": {},
     "title": ""
    }
   },
   "outputs": [
    {
     "output_type": "stream",
     "name": "stderr",
     "output_type": "stream",
     "text": [
      "/home/spark-0abbcd6f-59ab-4735-85d2-ea/.ipykernel/2661/command-6061413419277644-2637660805:37: UserWarning: Data has no positive values, and therefore cannot be log-scaled.\n  axes[0, 1].axvline(books_pd['reviews_numeric'].median(), color='red',\n"
     ]
    },
    {
     "output_type": "display_data",
     "data": {
      "image/png": "[encoded data removed]",
      "text/plain": [
       "<Figure size 1800x1200 with 5 Axes>"
      ]
     },
     "metadata": {},
     "output_type": "display_data"
    }
   ],
   "source": [
    "import matplotlib.pyplot as plt\n",
    "import seaborn as sns\n",
    "import numpy as np\n",
    "\n",
    "# Set style\n",
    "sns.set_style(\"whitegrid\")\n",
    "plt.rcParams['figure.facecolor'] = 'white'\n",
    "\n",
    "books_pd = books_cleaned \\\n",
    "    .filter((col(\"price_numeric\").isNotNull()) & (col(\"rating_numeric\").isNotNull())) \\\n",
    "    .select(\"title\", \"author_clean\", \"price_numeric\", \"rating_numeric\", \n",
    "            \"reviews_numeric\", \"popularity_score\", \"format\", \"rank\") \\\n",
    "    .toPandas()\n",
    "\n",
    "# Figure 1: Core Metrics\n",
    "fig, axes = plt.subplots(2, 2, figsize=(18, 12))\n",
    "fig.suptitle('Amazon Bestsellers - Core Metrics Analysis', fontsize=18, fontweight='bold', y=1.00)\n",
    "\n",
    "# 1. Price vs Rating with size = reviews\n",
    "scatter = axes[0, 0].scatter(books_pd['price_numeric'], books_pd['rating_numeric'], \n",
    "                   s=books_pd['reviews_numeric']/100, alpha=0.6, \n",
    "                   c=books_pd['popularity_score'], cmap='viridis',\n",
    "                   edgecolors='black', linewidth=0.5)\n",
    "axes[0, 0].set_xlabel('Price ($)', fontsize=13, fontweight='bold')\n",
    "axes[0, 0].set_ylabel('Rating (out of 5)', fontsize=13, fontweight='bold')\n",
    "axes[0, 0].set_title('Price vs Rating (bubble size = review count)', fontsize=14, fontweight='bold')\n",
    "axes[0, 0].grid(True, alpha=0.3)\n",
    "plt.colorbar(scatter, ax=axes[0, 0], label='Popularity Score')\n",
    "\n",
    "# 2. Reviews Distribution (log scale)\n",
    "axes[0, 1].hist(books_pd['reviews_numeric'], bins=30, edgecolor='black', \n",
    "                color='coral', alpha=0.7, log=True)\n",
    "axes[0, 1].set_xlabel('Number of Reviews', fontsize=13, fontweight='bold')\n",
    "axes[0, 1].set_ylabel('Frequency (log scale)', fontsize=13, fontweight='bold')\n",
    "axes[0, 1].set_title('Review Count Distribution', fontsize=14, fontweight='bold')\n",
    "axes[0, 1].grid(True, alpha=0.3)\n",
    "axes[0, 1].axvline(books_pd['reviews_numeric'].median(), color='red', \n",
    "                   linestyle='--', label=f\"Median: {books_pd['reviews_numeric'].median():.0f}\")\n",
    "axes[0, 1].legend()\n",
    "\n",
    "# 3. Price Distribution with stats\n",
    "axes[1, 0].hist(books_pd['price_numeric'], bins=25, edgecolor='black', \n",
    "                color='lightgreen', alpha=0.7)\n",
    "axes[1, 0].set_xlabel('Price ($)', fontsize=13, fontweight='bold')\n",
    "axes[1, 0].set_ylabel('Frequency', fontsize=13, fontweight='bold')\n",
    "axes[1, 0].set_title('Price Distribution', fontsize=14, fontweight='bold')\n",
    "axes[1, 0].grid(True, alpha=0.3)\n",
    "axes[1, 0].axvline(books_pd['price_numeric'].mean(), color='red', \n",
    "                   linestyle='--', linewidth=2, label=f\"Mean: ${books_pd['price_numeric'].mean():.2f}\")\n",
    "axes[1, 0].axvline(books_pd['price_numeric'].median(), color='blue', \n",
    "                   linestyle='--', linewidth=2, label=f\"Median: ${books_pd['price_numeric'].median():.2f}\")\n",
    "axes[1, 0].legend()\n",
    "\n",
    "# 4. Top 15 by Popularity\n",
    "top_15 = books_pd.nlargest(15, 'popularity_score')\n",
    "colors = plt.cm.viridis(np.linspace(0.3, 0.9, len(top_15)))\n",
    "bars = axes[1, 1].barh(range(len(top_15)), top_15['popularity_score'], color=colors)\n",
    "axes[1, 1].set_yticks(range(len(top_15)))\n",
    "axes[1, 1].set_yticklabels([title[:35] + '...' if len(title) > 35 else title \n",
    "                             for title in top_15['title']], fontsize=10)\n",
    "axes[1, 1].set_xlabel('Popularity Score (Rating × Reviews)', fontsize=13, fontweight='bold')\n",
    "axes[1, 1].set_title('Top 15 Most Popular Books', fontsize=14, fontweight='bold')\n",
    "axes[1, 1].grid(True, alpha=0.3, axis='x')\n",
    "axes[1, 1].invert_yaxis()\n",
    "\n",
    "plt.tight_layout()\n",
    "display(plt.show())\n"
   ]
  }
 ],
 "metadata": {
  "application/vnd.databricks.v1+notebook": {
   "computePreferences": null,
   "dashboards": [],
   "environmentMetadata": {
    "base_environment": "",
    "environment_version": "4"
   },
   "inputWidgetPreferences": null,
   "language": "python",
   "notebookMetadata": {
    "pythonIndentUnit": 4
   },
   "notebookName": "Amazon Best Selling Books Analysis",
   "widgets": {}
  },
  "language_info": {
   "name": "python"
  }
 },
 "nbformat": 4,
 "nbformat_minor": 0
}